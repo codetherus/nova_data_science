{
 "cells": [
  {
   "cell_type": "markdown",
   "metadata": {},
   "source": [
    "### VGG-16 transfer learning\n",
    "\n",
    "Here we'll look at using the VGG-16 network, which is pre-trained from the ImageNet challenge data (http://www.image-net.org/challenges/LSVRC/), along with the transfer learning technique to train a classifier for MNIST. This is a bit of overkill for a simple dataset like MNIST, where creating our own network and training from scratch can make sense, since we have many examples of each class, and the images are relatively small. Indeed in the last section we saw we can achieve 99% accuracy with a simple neural network. However, the same techniques can be applied to more complex datasets, as is left in a challenge at the bottom of this Jupyter notebook."
   ]
  },
  {
   "cell_type": "code",
   "execution_count": 31,
   "metadata": {},
   "outputs": [],
   "source": [
    "import numpy as np\n",
    "import pandas as pd\n",
    "\n",
    "import matplotlib\n",
    "import matplotlib.pyplot as plt\n",
    "matplotlib.rcParams['lines.linewidth'] = 2\n",
    "matplotlib.rcParams['xtick.labelsize'] = 16\n",
    "matplotlib.rcParams['ytick.labelsize'] = 16\n",
    "matplotlib.rcParams['axes.labelsize'] = 20\n",
    "matplotlib.rcParams['axes.titlesize'] = 20\n",
    "\n",
    "%matplotlib inline\n",
    "\n",
    "from sklearn.model_selection import train_test_split"
   ]
  },
  {
   "cell_type": "code",
   "execution_count": 2,
   "metadata": {},
   "outputs": [
    {
     "name": "stderr",
     "output_type": "stream",
     "text": [
      "/home/paperspace/anaconda3/envs/py27/lib/python2.7/site-packages/h5py/__init__.py:34: FutureWarning: Conversion of the second argument of issubdtype from `float` to `np.floating` is deprecated. In future, it will be treated as `np.float64 == np.dtype(float).type`.\n",
      "  from ._conv import register_converters as _register_converters\n",
      "Using TensorFlow backend.\n"
     ]
    }
   ],
   "source": [
    "import tensorflow as tf\n",
    "\n",
    "from keras.applications import xception, vgg16, vgg19, mobilenet\n",
    "from keras.layers import GlobalAveragePooling2D, GlobalMaxPooling2D\n",
    "from keras.models import Model\n",
    "from keras import optimizers\n",
    "import keras\n",
    "from keras.models import Sequential\n",
    "from keras.layers import Conv2D, MaxPooling2D, Convolution2D, ZeroPadding2D, BatchNormalization, Input, concatenate\n",
    "from keras.layers.core import Dense, Dropout, Flatten, Activation\n",
    "from keras.utils import np_utils, multi_gpu_model\n",
    "from keras.optimizers import SGD, Adam\n",
    "from keras.datasets import mnist\n",
    "from keras import backend as K\n",
    "from keras import applications\n",
    "from keras.preprocessing.image import ImageDataGenerator\n",
    "\n",
    "from sklearn.metrics import log_loss, accuracy_score, average_precision_score\n",
    "from sklearn.model_selection import train_test_split"
   ]
  },
  {
   "cell_type": "markdown",
   "metadata": {},
   "source": [
    "### Import mnist"
   ]
  },
  {
   "cell_type": "markdown",
   "metadata": {},
   "source": [
    "Let's import MNISt and do the same pre-processing of the data we did before to get it in an appropriate form."
   ]
  },
  {
   "cell_type": "code",
   "execution_count": 3,
   "metadata": {},
   "outputs": [],
   "source": [
    "from keras.datasets import mnist\n",
    "\n",
    "(x_train, y_train), (x_test, y_test) = mnist.load_data()"
   ]
  },
  {
   "cell_type": "code",
   "execution_count": 4,
   "metadata": {},
   "outputs": [],
   "source": [
    "x_train = x_train.reshape((60000,28,28,1))\n",
    "x_test = x_test.reshape((10000,28,28,1))"
   ]
  },
  {
   "cell_type": "code",
   "execution_count": 5,
   "metadata": {},
   "outputs": [],
   "source": [
    "y_train_enc = keras.utils.to_categorical(y_train)\n",
    "y_test_enc = keras.utils.to_categorical(y_test)"
   ]
  },
  {
   "cell_type": "markdown",
   "metadata": {
    "collapsed": true
   },
   "source": [
    "### Define the processing parameters"
   ]
  },
  {
   "cell_type": "code",
   "execution_count": 11,
   "metadata": {},
   "outputs": [],
   "source": [
    "batch_size = 128"
   ]
  },
  {
   "cell_type": "markdown",
   "metadata": {},
   "source": [
    "We'll use the same scaling here, as VGG-16 wants to see images scaled in the same way with values from 0 to 1 as inputs."
   ]
  },
  {
   "cell_type": "code",
   "execution_count": 12,
   "metadata": {},
   "outputs": [],
   "source": [
    "# train_datagen = ImageDataGenerator(\n",
    "#         rotation_range=40,\n",
    "#         rescale=1./255,\n",
    "#         width_shift_range=0.2,\n",
    "#         height_shift_range=0.2,\n",
    "#         shear_range=0.2,\n",
    "#         zoom_range=0.2,\n",
    "#         horizontal_flip=True,\n",
    "#         fill_mode='nearest')\n",
    "\n",
    "train_datagen = ImageDataGenerator(rescale=1./255)\n",
    "\n",
    "test_datagen = ImageDataGenerator(rescale=1./255)\n",
    "\n",
    "train_generator = train_datagen.flow(\n",
    "        x_train,  \n",
    "        y_train_enc,\n",
    "        batch_size=batch_size)\n",
    "\n",
    "# this is a similar generator, for validation data\n",
    "validation_generator = test_datagen.flow(\n",
    "        x_test,\n",
    "        y_test_enc,\n",
    "        batch_size=batch_size)"
   ]
  },
  {
   "cell_type": "markdown",
   "metadata": {},
   "source": [
    "### Switch to transfer learning approach"
   ]
  },
  {
   "cell_type": "code",
   "execution_count": 13,
   "metadata": {
    "scrolled": true
   },
   "outputs": [
    {
     "ename": "ValueError",
     "evalue": "The input must have 3 channels; got `input_shape=(28, 28, 1)`",
     "output_type": "error",
     "traceback": [
      "\u001b[0;31m---------------------------------------------------------------\u001b[0m",
      "\u001b[0;31mValueError\u001b[0m                    Traceback (most recent call last)",
      "\u001b[0;32m<ipython-input-13-ef85a942aa8b>\u001b[0m in \u001b[0;36m<module>\u001b[0;34m()\u001b[0m\n\u001b[1;32m      5\u001b[0m \u001b[0;31m# create the base pre-trained model\u001b[0m\u001b[0;34m\u001b[0m\u001b[0;34m\u001b[0m\u001b[0m\n\u001b[1;32m      6\u001b[0m \u001b[0;31m# base_model = xception.Xception(weights='imagenet', include_top=False, input_shape=(75,75,3))\u001b[0m\u001b[0;34m\u001b[0m\u001b[0;34m\u001b[0m\u001b[0m\n\u001b[0;32m----> 7\u001b[0;31m \u001b[0mbase_model\u001b[0m \u001b[0;34m=\u001b[0m \u001b[0mvgg16\u001b[0m\u001b[0;34m.\u001b[0m\u001b[0mVGG16\u001b[0m\u001b[0;34m(\u001b[0m\u001b[0mweights\u001b[0m\u001b[0;34m=\u001b[0m\u001b[0;34m'imagenet'\u001b[0m\u001b[0;34m,\u001b[0m \u001b[0minclude_top\u001b[0m\u001b[0;34m=\u001b[0m\u001b[0mFalse\u001b[0m\u001b[0;34m,\u001b[0m \u001b[0minput_shape\u001b[0m\u001b[0;34m=\u001b[0m\u001b[0;34m(\u001b[0m\u001b[0;36m28\u001b[0m\u001b[0;34m,\u001b[0m \u001b[0;36m28\u001b[0m\u001b[0;34m,\u001b[0m \u001b[0;36m1\u001b[0m\u001b[0;34m)\u001b[0m\u001b[0;34m)\u001b[0m\u001b[0;34m\u001b[0m\u001b[0m\n\u001b[0m\u001b[1;32m      8\u001b[0m \u001b[0;34m\u001b[0m\u001b[0m\n\u001b[1;32m      9\u001b[0m \u001b[0;34m\u001b[0m\u001b[0m\n",
      "\u001b[0;32m/home/paperspace/.local/lib/python2.7/site-packages/keras/applications/vgg16.pyc\u001b[0m in \u001b[0;36mVGG16\u001b[0;34m(include_top, weights, input_tensor, input_shape, pooling, classes)\u001b[0m\n\u001b[1;32m    104\u001b[0m                                       \u001b[0mdata_format\u001b[0m\u001b[0;34m=\u001b[0m\u001b[0mK\u001b[0m\u001b[0;34m.\u001b[0m\u001b[0mimage_data_format\u001b[0m\u001b[0;34m(\u001b[0m\u001b[0;34m)\u001b[0m\u001b[0;34m,\u001b[0m\u001b[0;34m\u001b[0m\u001b[0m\n\u001b[1;32m    105\u001b[0m                                       \u001b[0mrequire_flatten\u001b[0m\u001b[0;34m=\u001b[0m\u001b[0minclude_top\u001b[0m\u001b[0;34m,\u001b[0m\u001b[0;34m\u001b[0m\u001b[0m\n\u001b[0;32m--> 106\u001b[0;31m                                       weights=weights)\n\u001b[0m\u001b[1;32m    107\u001b[0m \u001b[0;34m\u001b[0m\u001b[0m\n\u001b[1;32m    108\u001b[0m     \u001b[0;32mif\u001b[0m \u001b[0minput_tensor\u001b[0m \u001b[0;32mis\u001b[0m \u001b[0mNone\u001b[0m\u001b[0;34m:\u001b[0m\u001b[0;34m\u001b[0m\u001b[0m\n",
      "\u001b[0;32m/home/paperspace/.local/lib/python2.7/site-packages/keras/applications/imagenet_utils.pyc\u001b[0m in \u001b[0;36m_obtain_input_shape\u001b[0;34m(input_shape, default_size, min_size, data_format, require_flatten, weights)\u001b[0m\n\u001b[1;32m    292\u001b[0m                 \u001b[0;32mif\u001b[0m \u001b[0minput_shape\u001b[0m\u001b[0;34m[\u001b[0m\u001b[0;34m-\u001b[0m\u001b[0;36m1\u001b[0m\u001b[0;34m]\u001b[0m \u001b[0;34m!=\u001b[0m \u001b[0;36m3\u001b[0m \u001b[0;32mand\u001b[0m \u001b[0mweights\u001b[0m \u001b[0;34m==\u001b[0m \u001b[0;34m'imagenet'\u001b[0m\u001b[0;34m:\u001b[0m\u001b[0;34m\u001b[0m\u001b[0m\n\u001b[1;32m    293\u001b[0m                     raise ValueError('The input must have 3 channels; got '\n\u001b[0;32m--> 294\u001b[0;31m                                      '`input_shape=' + str(input_shape) + '`')\n\u001b[0m\u001b[1;32m    295\u001b[0m                 if ((input_shape[0] is not None and input_shape[0] < min_size) or\n\u001b[1;32m    296\u001b[0m                    (input_shape[1] is not None and input_shape[1] < min_size)):\n",
      "\u001b[0;31mValueError\u001b[0m: The input must have 3 channels; got `input_shape=(28, 28, 1)`"
     ]
    }
   ],
   "source": [
    "#################################################################\n",
    "############## Transfer Model 1 #################################\n",
    "#################################################################\n",
    "\n",
    "# create the base pre-trained model\n",
    "# base_model = xception.Xception(weights='imagenet', include_top=False, input_shape=(75,75,3))\n",
    "base_model = vgg16.VGG16(weights='imagenet', include_top=False, input_shape=(28, 28, 1))\n",
    "\n",
    "# Notice that we did not include the top of the neural network, which is the set of densely connected\n",
    "# layers that where used to convert the output of the convolutional layers that find image features\n",
    "# into the 1000 classes of the ImageNet dataset\n",
    "\n",
    "# add a global spatial average pooling layer\n",
    "x = base_model.output\n",
    "\n",
    "### We need a normalization layer here to get the model output in a form we can send to a dense layer $$$\n",
    "# x = BatchNormalization()(x)\n",
    "x = GlobalAveragePooling2D()(x)\n",
    "# x = GlobalMaxPooling2D()(x)\n",
    "\n",
    "# let's add fully-connected layers, using dropout as a way to keep the network\n",
    "# from overfitting to the training data (regularization)\n",
    "x = Dense(1024, activation='relu')(x)\n",
    "x = Dropout(0.2)(x)\n",
    "x = Dense(512, activation='relu')(x)\n",
    "x = Dropout(0.2)(x)\n",
    "x = Dense(256, activation='relu')(x)\n",
    "x = Dropout(0.2)(x)\n",
    "# x = Dense(128, activation='relu')(x)\n",
    "# x = Dropout(0.5)(x)\n",
    "\n",
    "# And the final softmax layer, which will output probabilities from 0 to 1\n",
    "predictions = Dense(10, activation='softmax')(x)\n",
    "\n",
    "# this is the model we will train\n",
    "model_transfer = Model(inputs=base_model.input, outputs=predictions)\n",
    "\n",
    "# first: train only the top layers (which were randomly initialized)\n",
    "# i.e. freeze all convolutional VGG-16 layers, which have already been trained\n",
    "# to perform well on the ImageNet dataset\n",
    "for layer in base_model.layers:\n",
    "    layer.trainable = False\n",
    "\n",
    "### We use \n",
    "model_transfer.compile(optimizer='adam', loss='binary_crossentropy', metrics=[\"accuracy\"])\n",
    "# model.compile(optimizer='nadam', loss='binary_crossentropy', metrics=[\"accuracy\"])\n",
    "# model.compile(optimizer = optimizers.SGD(lr=0.001, momentum=0.9, nesterov=True, decay=1e-6), \\\n",
    "#               loss='binary_crossentropy', metrics=[\"accuracy\"])\n",
    "# model.compile(optimizer=mypotim, loss='binary_crossentropy', metrics=[\"accuracy\"])"
   ]
  },
  {
   "cell_type": "markdown",
   "metadata": {},
   "source": [
    "So we can see that while last time we defined everything about our network, so the inputs could be whatever size we wanted, for transfer learning we must respect the original network size a bit more."
   ]
  },
  {
   "cell_type": "code",
   "execution_count": 71,
   "metadata": {},
   "outputs": [
    {
     "data": {
      "text/plain": [
       "<matplotlib.image.AxesImage at 0x7f31c0191b90>"
      ]
     },
     "execution_count": 71,
     "metadata": {},
     "output_type": "execute_result"
    },
    {
     "data": {
      "image/png": "[encoded data removed]",
      "text/plain": [
       "<matplotlib.figure.Figure at 0x7f31d00a5610>"
      ]
     },
     "metadata": {},
     "output_type": "display_data"
    }
   ],
   "source": [
    "plt.imshow(tsti)"
   ]
  },
  {
   "cell_type": "code",
   "execution_count": 14,
   "metadata": {},
   "outputs": [],
   "source": [
    "num_images, image_x, image_y, channels = x_train.shape\n",
    "new_shape = (num_images, image_x, image_y, 3)\n",
    "x_train_3c = np.zeros(new_shape)"
   ]
  },
  {
   "cell_type": "code",
   "execution_count": 15,
   "metadata": {},
   "outputs": [],
   "source": [
    "x_train_3c[:,:,:,0] = x_train[:,:,:,0]\n",
    "x_train_3c[:,:,:,1] = x_train[:,:,:,0]\n",
    "x_train_3c[:,:,:,2] = x_train[:,:,:,0]"
   ]
  },
  {
   "cell_type": "code",
   "execution_count": 16,
   "metadata": {
    "scrolled": true
   },
   "outputs": [
    {
     "ename": "ValueError",
     "evalue": "Input size must be at least 48x48; got `input_shape=(28, 28, 3)`",
     "output_type": "error",
     "traceback": [
      "\u001b[0;31m---------------------------------------------------------------\u001b[0m",
      "\u001b[0;31mValueError\u001b[0m                    Traceback (most recent call last)",
      "\u001b[0;32m<ipython-input-16-40d7ca511302>\u001b[0m in \u001b[0;36m<module>\u001b[0;34m()\u001b[0m\n\u001b[1;32m      5\u001b[0m \u001b[0;31m# create the base pre-trained model\u001b[0m\u001b[0;34m\u001b[0m\u001b[0;34m\u001b[0m\u001b[0m\n\u001b[1;32m      6\u001b[0m \u001b[0;31m# base_model = xception.Xception(weights='imagenet', include_top=False, input_shape=(75,75,3))\u001b[0m\u001b[0;34m\u001b[0m\u001b[0;34m\u001b[0m\u001b[0m\n\u001b[0;32m----> 7\u001b[0;31m \u001b[0mbase_model\u001b[0m \u001b[0;34m=\u001b[0m \u001b[0mvgg16\u001b[0m\u001b[0;34m.\u001b[0m\u001b[0mVGG16\u001b[0m\u001b[0;34m(\u001b[0m\u001b[0mweights\u001b[0m\u001b[0;34m=\u001b[0m\u001b[0;34m'imagenet'\u001b[0m\u001b[0;34m,\u001b[0m \u001b[0minclude_top\u001b[0m\u001b[0;34m=\u001b[0m\u001b[0mFalse\u001b[0m\u001b[0;34m,\u001b[0m \u001b[0minput_shape\u001b[0m\u001b[0;34m=\u001b[0m\u001b[0;34m(\u001b[0m\u001b[0;36m28\u001b[0m\u001b[0;34m,\u001b[0m \u001b[0;36m28\u001b[0m\u001b[0;34m,\u001b[0m \u001b[0;36m3\u001b[0m\u001b[0;34m)\u001b[0m\u001b[0;34m)\u001b[0m\u001b[0;34m\u001b[0m\u001b[0m\n\u001b[0m\u001b[1;32m      8\u001b[0m \u001b[0;34m\u001b[0m\u001b[0m\n\u001b[1;32m      9\u001b[0m \u001b[0;34m\u001b[0m\u001b[0m\n",
      "\u001b[0;32m/home/paperspace/.local/lib/python2.7/site-packages/keras/applications/vgg16.pyc\u001b[0m in \u001b[0;36mVGG16\u001b[0;34m(include_top, weights, input_tensor, input_shape, pooling, classes)\u001b[0m\n\u001b[1;32m    104\u001b[0m                                       \u001b[0mdata_format\u001b[0m\u001b[0;34m=\u001b[0m\u001b[0mK\u001b[0m\u001b[0;34m.\u001b[0m\u001b[0mimage_data_format\u001b[0m\u001b[0;34m(\u001b[0m\u001b[0;34m)\u001b[0m\u001b[0;34m,\u001b[0m\u001b[0;34m\u001b[0m\u001b[0m\n\u001b[1;32m    105\u001b[0m                                       \u001b[0mrequire_flatten\u001b[0m\u001b[0;34m=\u001b[0m\u001b[0minclude_top\u001b[0m\u001b[0;34m,\u001b[0m\u001b[0;34m\u001b[0m\u001b[0m\n\u001b[0;32m--> 106\u001b[0;31m                                       weights=weights)\n\u001b[0m\u001b[1;32m    107\u001b[0m \u001b[0;34m\u001b[0m\u001b[0m\n\u001b[1;32m    108\u001b[0m     \u001b[0;32mif\u001b[0m \u001b[0minput_tensor\u001b[0m \u001b[0;32mis\u001b[0m \u001b[0mNone\u001b[0m\u001b[0;34m:\u001b[0m\u001b[0;34m\u001b[0m\u001b[0m\n",
      "\u001b[0;32m/home/paperspace/.local/lib/python2.7/site-packages/keras/applications/imagenet_utils.pyc\u001b[0m in \u001b[0;36m_obtain_input_shape\u001b[0;34m(input_shape, default_size, min_size, data_format, require_flatten, weights)\u001b[0m\n\u001b[1;32m    297\u001b[0m                     raise ValueError('Input size must be at least ' +\n\u001b[1;32m    298\u001b[0m                                      \u001b[0mstr\u001b[0m\u001b[0;34m(\u001b[0m\u001b[0mmin_size\u001b[0m\u001b[0;34m)\u001b[0m \u001b[0;34m+\u001b[0m \u001b[0;34m'x'\u001b[0m \u001b[0;34m+\u001b[0m \u001b[0mstr\u001b[0m\u001b[0;34m(\u001b[0m\u001b[0mmin_size\u001b[0m\u001b[0;34m)\u001b[0m \u001b[0;34m+\u001b[0m \u001b[0;34m'; got '\u001b[0m\u001b[0;34m\u001b[0m\u001b[0m\n\u001b[0;32m--> 299\u001b[0;31m                                      '`input_shape=' + str(input_shape) + '`')\n\u001b[0m\u001b[1;32m    300\u001b[0m     \u001b[0;32melse\u001b[0m\u001b[0;34m:\u001b[0m\u001b[0;34m\u001b[0m\u001b[0m\n\u001b[1;32m    301\u001b[0m         \u001b[0;32mif\u001b[0m \u001b[0mrequire_flatten\u001b[0m\u001b[0;34m:\u001b[0m\u001b[0;34m\u001b[0m\u001b[0m\n",
      "\u001b[0;31mValueError\u001b[0m: Input size must be at least 48x48; got `input_shape=(28, 28, 3)`"
     ]
    }
   ],
   "source": [
    "#################################################################\n",
    "############## Transfer Model 1 (Fixed) #########################\n",
    "#################################################################\n",
    "\n",
    "# create the base pre-trained model\n",
    "# base_model = xception.Xception(weights='imagenet', include_top=False, input_shape=(75,75,3))\n",
    "base_model = vgg16.VGG16(weights='imagenet', include_top=False, input_shape=(28, 28, 3))\n",
    "\n",
    "\n",
    "# add a global spatial average pooling layer\n",
    "x = base_model.output\n",
    "\n",
    "# x = BatchNormalization()(x)\n",
    "x = GlobalAveragePooling2D()(x)\n",
    "# x = GlobalMaxPooling2D()(x)\n",
    "\n",
    "# let's add a fully-connected layer\n",
    "x = Dense(1024, activation='relu')(x)\n",
    "x = Dropout(0.2)(x)\n",
    "x = Dense(512, activation='relu')(x)\n",
    "x = Dropout(0.2)(x)\n",
    "x = Dense(256, activation='relu')(x)\n",
    "x = Dropout(0.2)(x)\n",
    "# x = Dense(128, activation='relu')(x)\n",
    "# x = Dropout(0.5)(x)\n",
    "\n",
    "# And the final softmax layer\n",
    "predictions = Dense(10, activation='softmax')(x)\n",
    "\n",
    "# this is the model we will train\n",
    "model_transfer = Model(inputs=base_model.input, outputs=predictions)\n",
    "\n",
    "# first: train only the top layers (which were randomly initialized)\n",
    "# i.e. freeze all convolutional InceptionV3 layers\n",
    "for layer in base_model.layers:\n",
    "    layer.trainable = False\n",
    "\n",
    "# mypotim=Adam(lr=0.001, beta_1=0.9, beta_2=0.999, epsilon=1e-08, decay=0.0)\n",
    "\n",
    "model_transfer.compile(optimizer='adam', loss='binary_crossentropy', metrics=[\"accuracy\"])\n",
    "# model.compile(optimizer='nadam', loss='binary_crossentropy', metrics=[\"accuracy\"])\n",
    "# model.compile(optimizer = optimizers.SGD(lr=0.001, momentum=0.9, nesterov=True, decay=1e-6), \\\n",
    "#               loss='binary_crossentropy', metrics=[\"accuracy\"])\n",
    "# model.compile(optimizer=mypotim, loss='binary_crossentropy', metrics=[\"accuracy\"])"
   ]
  },
  {
   "cell_type": "markdown",
   "metadata": {},
   "source": [
    "So now we have the wrong shape, the model can't take images at that low of resolution. With a bit of work we can get around this, let's hope it's worth it in the end! This took a bit of figuring with SciPy's two-dimensional interpolation function, please see the associated docs here: https://docs.scipy.org/doc/scipy-0.14.0/reference/generated/scipy.interpolate.interp2d.html"
   ]
  },
  {
   "cell_type": "code",
   "execution_count": 17,
   "metadata": {},
   "outputs": [],
   "source": [
    "from scipy.interpolate import interp2d"
   ]
  },
  {
   "cell_type": "code",
   "execution_count": 18,
   "metadata": {},
   "outputs": [],
   "source": [
    "#### This all took about 30 seconds to run on the Paperspace VM\n",
    "orig_x_ind = range(image_x)\n",
    "orig_y_ind = range(image_y)\n",
    "\n",
    "new_x_values = np.arange(0, image_x, 0.5)\n",
    "new_y_values = np.arange(0, image_y, 0.5)\n",
    "\n",
    "new_shape_exp = (num_images, len(new_x_values), len(new_y_values), 3)\n",
    "\n",
    "x_train_3c_exp = np.zeros(new_shape_exp)\n",
    "\n",
    "for i in range(x_train.shape[0]):\n",
    "    \n",
    "    interp_fn = interp2d(orig_x_ind, orig_y_ind, x_train[i,:,:,0])\n",
    "    \n",
    "    interp_image = interp_fn(new_x_values, new_y_values)\n",
    "    \n",
    "    x_train_3c_exp[i, :, :, 0] = interp_image \n",
    "    x_train_3c_exp[i, :, :, 1] = interp_image \n",
    "    x_train_3c_exp[i, :, :, 2] = interp_image "
   ]
  },
  {
   "cell_type": "code",
   "execution_count": 19,
   "metadata": {},
   "outputs": [
    {
     "data": {
      "image/png": "[encoded data removed]",
      "text/plain": [
       "<matplotlib.figure.Figure at 0x7fc27c4161d0>"
      ]
     },
     "metadata": {},
     "output_type": "display_data"
    }
   ],
   "source": [
    "plt.figure(figsize=(16,6.5))\n",
    "num_images = 5\n",
    "for i in range(num_images):\n",
    "    plt.subplot(2,num_images,i+1); \n",
    "    plt.imshow(x_train_3c[i,:,:,0], cmap='gray')\n",
    "    \n",
    "    plt.subplot(2,num_images,num_images + i + 1); \n",
    "    plt.imshow(x_train_3c_exp[i,:,:,0], cmap='gray')\n",
    "    \n",
    "# plt.imshow((x_train_3c[0,:,:,0]), cmap='gray'); plt.show()\n",
    "# plt.imshow((x_train_3c_exp[0,:,:,0]), cmap='gray'); plt.show()"
   ]
  },
  {
   "cell_type": "markdown",
   "metadata": {},
   "source": [
    "OK, so now we have our high resolution interpolated images. Let's run the transfer model and see if it was all worth it."
   ]
  },
  {
   "cell_type": "code",
   "execution_count": 28,
   "metadata": {},
   "outputs": [],
   "source": [
    "#################################################################\n",
    "############## Transfer Model 1 (Fixed+) #########################\n",
    "#################################################################\n",
    "\n",
    "# create the base pre-trained model\n",
    "# base_model = xception.Xception(weights='imagenet', include_top=False, input_shape=(75,75,3))\n",
    "base_model = vgg16.VGG16(weights='imagenet', include_top=False, input_shape=(56, 56, 3))\n",
    "\n",
    "# add a global spatial average pooling layer\n",
    "x = base_model.output\n",
    "\n",
    "# x = BatchNormalization()(x)\n",
    "x = GlobalAveragePooling2D()(x)\n",
    "# x = GlobalMaxPooling2D()(x)\n",
    "\n",
    "# let's add a fully-connected layer\n",
    "x = Dense(1024, activation='relu')(x)\n",
    "x = Dropout(0.2)(x)\n",
    "x = Dense(512, activation='relu')(x)\n",
    "x = Dropout(0.2)(x)\n",
    "x = Dense(256, activation='relu')(x)\n",
    "x = Dropout(0.2)(x)\n",
    "# x = Dense(128, activation='relu')(x)\n",
    "# x = Dropout(0.5)(x)\n",
    "\n",
    "# And the final softmax layer\n",
    "predictions = Dense(10, activation='softmax')(x)\n",
    "\n",
    "# this is the model we will train\n",
    "model_transfer = Model(inputs=base_model.input, outputs=predictions)\n",
    "\n",
    "# first: train only the top layers (which were randomly initialized)\n",
    "# i.e. freeze all convolutional InceptionV3 layers\n",
    "for layer in base_model.layers:\n",
    "    layer.trainable = False\n",
    "\n",
    "# mypotim=Adam(lr=0.001, beta_1=0.9, beta_2=0.999, epsilon=1e-08, decay=0.0)\n",
    "\n",
    "model_transfer.compile(optimizer='adam', loss='binary_crossentropy', metrics=[\"accuracy\"])\n",
    "# model.compile(optimizer='nadam', loss='binary_crossentropy', metrics=[\"accuracy\"])\n",
    "# model.compile(optimizer = optimizers.SGD(lr=0.001, momentum=0.9, nesterov=True, decay=1e-6), \\\n",
    "#               loss='binary_crossentropy', metrics=[\"accuracy\"])\n",
    "# model.compile(optimizer=mypotim, loss='binary_crossentropy', metrics=[\"accuracy\"])"
   ]
  },
  {
   "cell_type": "code",
   "execution_count": 23,
   "metadata": {},
   "outputs": [],
   "source": [
    "num_images_test = x_test.shape[0]\n",
    "new_shape_test_exp = (num_images_test, len(new_x_values), len(new_y_values), 3)\n",
    "\n",
    "x_test_3c_exp = np.zeros(new_shape_test_exp)\n",
    "\n",
    "for i in range(x_test.shape[0]):\n",
    "    \n",
    "    interp_fn = interp2d(orig_x_ind, orig_y_ind, x_test[i,:,:,0])\n",
    "    \n",
    "    interp_image = interp_fn(new_x_values, new_y_values)\n",
    "    \n",
    "    x_test_3c_exp[i, :, :, 0] = interp_image \n",
    "    x_test_3c_exp[i, :, :, 1] = interp_image \n",
    "    x_test_3c_exp[i, :, :, 2] = interp_image "
   ]
  },
  {
   "cell_type": "code",
   "execution_count": 25,
   "metadata": {},
   "outputs": [],
   "source": [
    "train_datagen = ImageDataGenerator(rescale=1./255)\n",
    "\n",
    "train_generator = train_datagen.flow(\n",
    "        x_train_3c_exp,  \n",
    "        y_train_enc,\n",
    "        batch_size=batch_size)"
   ]
  },
  {
   "cell_type": "code",
   "execution_count": 29,
   "metadata": {
    "scrolled": true
   },
   "outputs": [
    {
     "name": "stdout",
     "output_type": "stream",
     "text": [
      "Epoch 1/20\n",
      "468/468 [==============================] - 28s 59ms/step - loss: 0.0492 - acc: 0.9826 - val_loss: 1.1443 - val_acc: 0.9188\n",
      "Epoch 2/20\n",
      "468/468 [==============================] - 28s 59ms/step - loss: 0.0222 - acc: 0.9923 - val_loss: 1.2141 - val_acc: 0.9160\n",
      "Epoch 3/20\n",
      "468/468 [==============================] - 28s 59ms/step - loss: 0.0191 - acc: 0.9935 - val_loss: 1.2613 - val_acc: 0.9140\n",
      "Epoch 4/20\n",
      "468/468 [==============================] - 28s 59ms/step - loss: 0.0169 - acc: 0.9942 - val_loss: 1.2899 - val_acc: 0.9136\n",
      "Epoch 5/20\n",
      "468/468 [==============================] - 28s 59ms/step - loss: 0.0159 - acc: 0.9945 - val_loss: 1.2730 - val_acc: 0.9145\n",
      "Epoch 6/20\n",
      "468/468 [==============================] - 28s 59ms/step - loss: 0.0145 - acc: 0.9950 - val_loss: 1.3795 - val_acc: 0.9077\n",
      "Epoch 7/20\n",
      "468/468 [==============================] - 28s 59ms/step - loss: 0.0132 - acc: 0.9954 - val_loss: 1.5834 - val_acc: 0.8956\n",
      "Epoch 8/20\n",
      "468/468 [==============================] - 28s 59ms/step - loss: 0.0127 - acc: 0.9957 - val_loss: 1.7646 - val_acc: 0.8839\n",
      "Epoch 9/20\n",
      "468/468 [==============================] - 28s 59ms/step - loss: 0.0119 - acc: 0.9958 - val_loss: 1.6207 - val_acc: 0.8937\n",
      "Epoch 10/20\n",
      "468/468 [==============================] - 28s 59ms/step - loss: 0.0115 - acc: 0.9960 - val_loss: 1.5695 - val_acc: 0.8968\n",
      "Epoch 11/20\n",
      "468/468 [==============================] - 28s 59ms/step - loss: 0.0115 - acc: 0.9961 - val_loss: 1.7609 - val_acc: 0.8852\n",
      "Epoch 12/20\n",
      "468/468 [==============================] - 28s 59ms/step - loss: 0.0107 - acc: 0.9962 - val_loss: 1.8160 - val_acc: 0.8828\n",
      "Epoch 13/20\n",
      "468/468 [==============================] - 28s 59ms/step - loss: 0.0103 - acc: 0.9964 - val_loss: 1.7292 - val_acc: 0.8877\n",
      "Epoch 14/20\n",
      "468/468 [==============================] - 28s 59ms/step - loss: 0.0102 - acc: 0.9965 - val_loss: 1.7364 - val_acc: 0.8870s: 0.0102 \n",
      "Epoch 15/20\n",
      "468/468 [==============================] - 28s 59ms/step - loss: 0.0095 - acc: 0.9967 - val_loss: 1.6648 - val_acc: 0.8920\n",
      "Epoch 16/20\n",
      "468/468 [==============================] - 28s 59ms/step - loss: 0.0083 - acc: 0.9970 - val_loss: 1.6751 - val_acc: 0.8915\n",
      "Epoch 17/20\n",
      "468/468 [==============================] - 28s 59ms/step - loss: 0.0090 - acc: 0.9968 - val_loss: 1.6564 - val_acc: 0.8926\n",
      "Epoch 18/20\n",
      "468/468 [==============================] - 28s 59ms/step - loss: 0.0087 - acc: 0.9970 - val_loss: 1.6042 - val_acc: 0.8962\n",
      "Epoch 19/20\n",
      "468/468 [==============================] - 28s 59ms/step - loss: 0.0084 - acc: 0.9971 - val_loss: 1.6214 - val_acc: 0.8945\n",
      "Epoch 20/20\n",
      "468/468 [==============================] - 28s 59ms/step - loss: 0.0082 - acc: 0.9971 - val_loss: 1.7267 - val_acc: 0.8884\n"
     ]
    }
   ],
   "source": [
    "history = model_transfer.fit_generator(train_generator, x_train_3c_exp.shape[0] // batch_size, \\\n",
    "                                    epochs=20, verbose=1, validation_data=(x_test_3c_exp, y_test_enc))\n",
    "model_transfer.save_weights('./models/transfer_architecture_1.h5')\n",
    "pd.DataFrame(history.history).to_csv('./models/transfer_architecture_1.csv', index=True)"
   ]
  },
  {
   "cell_type": "code",
   "execution_count": 32,
   "metadata": {},
   "outputs": [
    {
     "data": {
      "text/plain": [
       "[<matplotlib.lines.Line2D at 0x7fc278ce1910>]"
      ]
     },
     "execution_count": 32,
     "metadata": {},
     "output_type": "execute_result"
    },
    {
     "data": {
      "image/png": "[encoded data removed]",
      "text/plain": [
       "<matplotlib.figure.Figure at 0x7fc278ce13d0>"
      ]
     },
     "metadata": {},
     "output_type": "display_data"
    }
   ],
   "source": [
    "plt.plot(history.history['acc'])\n",
    "plt.plot(history.history['val_acc'])"
   ]
  },
  {
   "cell_type": "code",
   "execution_count": 36,
   "metadata": {},
   "outputs": [
    {
     "name": "stdout",
     "output_type": "stream",
     "text": [
      "19\n"
     ]
    },
    {
     "data": {
      "text/plain": [
       "[<keras.engine.topology.InputLayer at 0x7fc11bbf8050>,\n",
       " <keras.layers.convolutional.Conv2D at 0x7fc11bbf8490>,\n",
       " <keras.layers.convolutional.Conv2D at 0x7fc11bc1ded0>,\n",
       " <keras.layers.pooling.MaxPooling2D at 0x7fc11bbf8750>,\n",
       " <keras.layers.convolutional.Conv2D at 0x7fc11620f210>,\n",
       " <keras.layers.convolutional.Conv2D at 0x7fc11620f790>,\n",
       " <keras.layers.pooling.MaxPooling2D at 0x7fc11bca3e90>,\n",
       " <keras.layers.convolutional.Conv2D at 0x7fc115ab9190>,\n",
       " <keras.layers.convolutional.Conv2D at 0x7fc115ab9750>,\n",
       " <keras.layers.convolutional.Conv2D at 0x7fc115a83510>,\n",
       " <keras.layers.pooling.MaxPooling2D at 0x7fc115b0b8d0>,\n",
       " <keras.layers.convolutional.Conv2D at 0x7fc115af1f90>,\n",
       " <keras.layers.convolutional.Conv2D at 0x7fc115af1cd0>,\n",
       " <keras.layers.convolutional.Conv2D at 0x7fc115229a90>,\n",
       " <keras.layers.pooling.MaxPooling2D at 0x7fc115255950>,\n",
       " <keras.layers.convolutional.Conv2D at 0x7fc1151ffb10>,\n",
       " <keras.layers.convolutional.Conv2D at 0x7fc1151ff650>,\n",
       " <keras.layers.convolutional.Conv2D at 0x7fc1151aa250>,\n",
       " <keras.layers.pooling.MaxPooling2D at 0x7fc1151bbdd0>]"
      ]
     },
     "execution_count": 36,
     "metadata": {},
     "output_type": "execute_result"
    }
   ],
   "source": [
    "print(len(base_model.layers))\n",
    "base_model.layers"
   ]
  },
  {
   "cell_type": "code",
   "execution_count": 39,
   "metadata": {},
   "outputs": [
    {
     "data": {
      "text/plain": [
       "[<keras.engine.topology.InputLayer at 0x7fc11bbf8050>,\n",
       " <keras.layers.convolutional.Conv2D at 0x7fc11bbf8490>,\n",
       " <keras.layers.convolutional.Conv2D at 0x7fc11bc1ded0>,\n",
       " <keras.layers.pooling.MaxPooling2D at 0x7fc11bbf8750>,\n",
       " <keras.layers.convolutional.Conv2D at 0x7fc11620f210>,\n",
       " <keras.layers.convolutional.Conv2D at 0x7fc11620f790>,\n",
       " <keras.layers.pooling.MaxPooling2D at 0x7fc11bca3e90>,\n",
       " <keras.layers.convolutional.Conv2D at 0x7fc115ab9190>,\n",
       " <keras.layers.convolutional.Conv2D at 0x7fc115ab9750>,\n",
       " <keras.layers.convolutional.Conv2D at 0x7fc115a83510>,\n",
       " <keras.layers.pooling.MaxPooling2D at 0x7fc115b0b8d0>,\n",
       " <keras.layers.convolutional.Conv2D at 0x7fc115af1f90>,\n",
       " <keras.layers.convolutional.Conv2D at 0x7fc115af1cd0>,\n",
       " <keras.layers.convolutional.Conv2D at 0x7fc115229a90>,\n",
       " <keras.layers.pooling.MaxPooling2D at 0x7fc115255950>]"
      ]
     },
     "execution_count": 39,
     "metadata": {},
     "output_type": "execute_result"
    }
   ],
   "source": [
    "base_model.layers[:15]"
   ]
  },
  {
   "cell_type": "code",
   "execution_count": 40,
   "metadata": {},
   "outputs": [],
   "source": [
    "#################################################################\n",
    "############## Transfer Model 2 #################################\n",
    "#################################################################\n",
    "\n",
    "# create the base pre-trained model\n",
    "# base_model = xception.Xception(weights='imagenet', include_top=False, input_shape=(75,75,3))\n",
    "base_model = vgg16.VGG16(weights='imagenet', include_top=False, input_shape=(56, 56, 3))\n",
    "\n",
    "# add a global spatial average pooling layer\n",
    "x = base_model.output\n",
    "\n",
    "# x = BatchNormalization()(x)\n",
    "x = GlobalAveragePooling2D()(x)\n",
    "# x = GlobalMaxPooling2D()(x)\n",
    "\n",
    "# let's add a fully-connected layer\n",
    "x = Dense(1024, activation='relu')(x)\n",
    "x = Dropout(0.2)(x)\n",
    "x = Dense(512, activation='relu')(x)\n",
    "x = Dropout(0.2)(x)\n",
    "x = Dense(256, activation='relu')(x)\n",
    "x = Dropout(0.2)(x)\n",
    "# x = Dense(128, activation='relu')(x)\n",
    "# x = Dropout(0.5)(x)\n",
    "\n",
    "# And the final softmax layer\n",
    "predictions = Dense(10, activation='softmax')(x)\n",
    "\n",
    "# this is the model we will train\n",
    "model_transfer = Model(inputs=base_model.input, outputs=predictions)\n",
    "\n",
    "freeze_layer = 15\n",
    "\n",
    "### Freeze layers ###\n",
    "for layer in base_model.layers[:freeze_layer]:\n",
    "    layer.trainable = False\n",
    "    \n",
    "for layer in base_model.layers[freeze_layer:]:\n",
    "    layer.trainable = True\n",
    "\n",
    "# mypotim=Adam(lr=0.001, beta_1=0.9, beta_2=0.999, epsilon=1e-08, decay=0.0)\n",
    "\n",
    "model_transfer.compile(optimizer='adam', loss='binary_crossentropy', metrics=[\"accuracy\"])\n",
    "# model.compile(optimizer='nadam', loss='binary_crossentropy', metrics=[\"accuracy\"])\n",
    "# model.compile(optimizer = optimizers.SGD(lr=0.001, momentum=0.9, nesterov=True, decay=1e-6), \\\n",
    "#               loss='binary_crossentropy', metrics=[\"accuracy\"])\n",
    "# model.compile(optimizer=mypotim, loss='binary_crossentropy', metrics=[\"accuracy\"])"
   ]
  },
  {
   "cell_type": "code",
   "execution_count": 41,
   "metadata": {
    "scrolled": true
   },
   "outputs": [
    {
     "name": "stdout",
     "output_type": "stream",
     "text": [
      "Epoch 1/20\n",
      "468/468 [==============================] - 35s 76ms/step - loss: 0.0305 - acc: 0.9902 - val_loss: 0.1414 - val_acc: 0.9906\n",
      "Epoch 2/20\n",
      "468/468 [==============================] - 35s 75ms/step - loss: 0.0089 - acc: 0.9976 - val_loss: 0.0704 - val_acc: 0.9953\n",
      "Epoch 3/20\n",
      "468/468 [==============================] - 35s 74ms/step - loss: 0.0074 - acc: 0.9980 - val_loss: 0.0690 - val_acc: 0.9956\n",
      "Epoch 4/20\n",
      "468/468 [==============================] - 35s 75ms/step - loss: 0.0064 - acc: 0.9984 - val_loss: 0.0648 - val_acc: 0.9958\n",
      "Epoch 5/20\n",
      "468/468 [==============================] - 35s 75ms/step - loss: 0.0060 - acc: 0.9984 - val_loss: 0.0408 - val_acc: 0.9973\n",
      "Epoch 6/20\n",
      "468/468 [==============================] - 35s 75ms/step - loss: 0.0047 - acc: 0.9988 - val_loss: 0.0771 - val_acc: 0.9949\n",
      "Epoch 7/20\n",
      "468/468 [==============================] - 35s 75ms/step - loss: 0.0045 - acc: 0.9988 - val_loss: 0.1197 - val_acc: 0.9922\n",
      "Epoch 8/20\n",
      "468/468 [==============================] - 35s 75ms/step - loss: 0.0038 - acc: 0.9990 - val_loss: 0.0658 - val_acc: 0.9957\n",
      "Epoch 9/20\n",
      "468/468 [==============================] - 35s 75ms/step - loss: 0.0038 - acc: 0.9991 - val_loss: 0.0749 - val_acc: 0.9952\n",
      "Epoch 10/20\n",
      "468/468 [==============================] - 35s 75ms/step - loss: 0.0044 - acc: 0.9989 - val_loss: 0.0925 - val_acc: 0.9940\n",
      "Epoch 11/20\n",
      "468/468 [==============================] - 35s 74ms/step - loss: 0.0044 - acc: 0.9990 - val_loss: 0.0524 - val_acc: 0.9966\n",
      "Epoch 12/20\n",
      "468/468 [==============================] - 35s 75ms/step - loss: 0.0039 - acc: 0.9991 - val_loss: 0.0740 - val_acc: 0.9952\n",
      "Epoch 13/20\n",
      "468/468 [==============================] - 35s 75ms/step - loss: 0.0035 - acc: 0.9992 - val_loss: 0.0501 - val_acc: 0.9967\n",
      "Epoch 14/20\n",
      "468/468 [==============================] - 35s 75ms/step - loss: 0.0031 - acc: 0.9993 - val_loss: 0.0938 - val_acc: 0.9940\n",
      "Epoch 15/20\n",
      "468/468 [==============================] - 35s 75ms/step - loss: 0.0030 - acc: 0.9993 - val_loss: 0.0597 - val_acc: 0.9962\n",
      "Epoch 16/20\n",
      "468/468 [==============================] - 35s 75ms/step - loss: 0.0030 - acc: 0.9993 - val_loss: 0.0851 - val_acc: 0.9945\n",
      "Epoch 17/20\n",
      "468/468 [==============================] - 35s 75ms/step - loss: 0.0022 - acc: 0.9995 - val_loss: 0.0637 - val_acc: 0.9960\n",
      "Epoch 18/20\n",
      "468/468 [==============================] - 35s 75ms/step - loss: 0.0028 - acc: 0.9994 - val_loss: 0.0913 - val_acc: 0.9942\n",
      "Epoch 19/20\n",
      "468/468 [==============================] - 35s 75ms/step - loss: 0.0026 - acc: 0.9995 - val_loss: 0.0386 - val_acc: 0.9975\n",
      "Epoch 20/20\n",
      "468/468 [==============================] - 35s 75ms/step - loss: 0.0026 - acc: 0.9995 - val_loss: 0.0523 - val_acc: 0.9966\n"
     ]
    }
   ],
   "source": [
    "history = model_transfer.fit_generator(train_generator, x_train_3c_exp.shape[0] // batch_size, \\\n",
    "                                    epochs=20, verbose=1, validation_data=(x_test_3c_exp, y_test_enc))\n",
    "model_transfer.save_weights('./models/transfer_architecture_2.h5')\n",
    "pd.DataFrame(history.history).to_csv('./models/transfer_architecture_2.csv', index=True)"
   ]
  },
  {
   "cell_type": "code",
   "execution_count": 42,
   "metadata": {},
   "outputs": [
    {
     "data": {
      "text/plain": [
       "[<matplotlib.lines.Line2D at 0x7fc11bc1d290>]"
      ]
     },
     "execution_count": 42,
     "metadata": {},
     "output_type": "execute_result"
    },
    {
     "data": {
      "image/png": "[encoded data removed]",
      "text/plain": [
       "<matplotlib.figure.Figure at 0x7fc11bc1d9d0>"
      ]
     },
     "metadata": {},
     "output_type": "display_data"
    }
   ],
   "source": [
    "plt.plot(history.history['acc'])\n",
    "plt.plot(history.history['val_acc'])"
   ]
  },
  {
   "cell_type": "markdown",
   "metadata": {},
   "source": [
    "### Exercise for the reader"
   ]
  },
  {
   "cell_type": "markdown",
   "metadata": {},
   "source": [
    "Download the Kaggle data for the cats and dogs dataset using their API: https://github.com/Kaggle/kaggle-api\n",
    "\n",
    "Competition information for cats vs dogs here: https://www.kaggle.com/c/dogs-vs-cats/rules\n",
    "\n",
    "Challenge: create a transfer learning model that can distinguish cats vs. dogs using vgg-16 or another pre-trained model of your choice from the Keras library."
   ]
  },
  {
   "cell_type": "code",
   "execution_count": null,
   "metadata": {},
   "outputs": [],
   "source": []
  }
 ],
 "metadata": {
  "kernelspec": {
   "display_name": "Python 2",
   "language": "python",
   "name": "python2"
  },
  "language_info": {
   "codemirror_mode": {
    "name": "ipython",
    "version": 2
   },
   "file_extension": ".py",
   "mimetype": "text/x-python",
   "name": "python",
   "nbconvert_exporter": "python",
   "pygments_lexer": "ipython2",
   "version": "2.7.14"
  }
 },
 "nbformat": 4,
 "nbformat_minor": 2
}
