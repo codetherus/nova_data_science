{
 "cells": [
  {
   "cell_type": "markdown",
   "metadata": {},
   "source": [
    "### Transfer learning\n",
    "\n",
    "Here we'll look at using the VGG-16 network, which is pre-trained from the ImageNet challenge data (http://www.image-net.org/challenges/LSVRC/), along with the transfer learning technique to train a classifier for MNIST. This is a bit of overkill for a simple dataset like MNIST, where creating our own network and training from scratch can make sense since we have many examples of each class, and the images are relatively small. Indeed in the last section we saw we can achieve 99% accuracy with a simple neural network. However, the same techniques can be applied to more complex datasets, which is left as a challenge to the reader at the bottom of this notebook."
   ]
  },
  {
   "cell_type": "code",
   "execution_count": 1,
   "metadata": {},
   "outputs": [],
   "source": [
    "import numpy as np\n",
    "import pandas as pd\n",
    "\n",
    "import matplotlib\n",
    "import matplotlib.pyplot as plt\n",
    "matplotlib.rcParams['lines.linewidth'] = 2\n",
    "matplotlib.rcParams['xtick.labelsize'] = 16\n",
    "matplotlib.rcParams['ytick.labelsize'] = 16\n",
    "matplotlib.rcParams['axes.labelsize'] = 20\n",
    "matplotlib.rcParams['axes.titlesize'] = 20\n",
    "\n",
    "%matplotlib inline\n",
    "\n",
    "from sklearn.model_selection import train_test_split\n",
    "from sklearn.metrics import log_loss, accuracy_score, average_precision_score\n",
    "from sklearn.model_selection import train_test_split"
   ]
  },
  {
   "cell_type": "code",
   "execution_count": 2,
   "metadata": {},
   "outputs": [
    {
     "name": "stderr",
     "output_type": "stream",
     "text": [
      "/home/paperspace/anaconda3/envs/py27/lib/python2.7/site-packages/h5py/__init__.py:34: FutureWarning: Conversion of the second argument of issubdtype from `float` to `np.floating` is deprecated. In future, it will be treated as `np.float64 == np.dtype(float).type`.\n",
      "  from ._conv import register_converters as _register_converters\n",
      "Using TensorFlow backend.\n"
     ]
    }
   ],
   "source": [
    "### Here we load in all the relevant neural network packages ###\n",
    "import tensorflow as tf\n",
    "\n",
    "from keras.applications import xception, vgg16, vgg19, mobilenet\n",
    "from keras.layers import GlobalAveragePooling2D, GlobalMaxPooling2D\n",
    "from keras.models import Model\n",
    "from keras import optimizers\n",
    "import keras\n",
    "from keras.models import Sequential\n",
    "from keras.layers import Conv2D, MaxPooling2D, Convolution2D, ZeroPadding2D, BatchNormalization, Input, concatenate\n",
    "from keras.layers.core import Dense, Dropout, Flatten, Activation\n",
    "from keras.utils import np_utils, multi_gpu_model\n",
    "from keras.optimizers import SGD, Adam\n",
    "from keras.datasets import mnist\n",
    "from keras import backend as K\n",
    "from keras import applications\n",
    "from keras.preprocessing.image import ImageDataGenerator"
   ]
  },
  {
   "cell_type": "markdown",
   "metadata": {},
   "source": [
    "### Import mnist"
   ]
  },
  {
   "cell_type": "markdown",
   "metadata": {},
   "source": [
    "Let's import MNISt and do the same pre-processing of the data we did before to get it in an appropriate form."
   ]
  },
  {
   "cell_type": "code",
   "execution_count": 3,
   "metadata": {},
   "outputs": [],
   "source": [
    "from keras.datasets import mnist\n",
    "\n",
    "(x_train, y_train), (x_test, y_test) = mnist.load_data()"
   ]
  },
  {
   "cell_type": "code",
   "execution_count": 4,
   "metadata": {},
   "outputs": [],
   "source": [
    "x_train = x_train.reshape((60000,28,28,1))\n",
    "x_test = x_test.reshape((10000,28,28,1))"
   ]
  },
  {
   "cell_type": "code",
   "execution_count": 5,
   "metadata": {},
   "outputs": [],
   "source": [
    "y_train_enc = keras.utils.to_categorical(y_train)\n",
    "y_test_enc = keras.utils.to_categorical(y_test)"
   ]
  },
  {
   "cell_type": "markdown",
   "metadata": {
    "collapsed": true
   },
   "source": [
    "### Define the processing parameters"
   ]
  },
  {
   "cell_type": "code",
   "execution_count": 6,
   "metadata": {},
   "outputs": [],
   "source": [
    "batch_size = 128"
   ]
  },
  {
   "cell_type": "markdown",
   "metadata": {},
   "source": [
    "We'll use the same scaling here, as VGG-16 wants to see images scaled in the same way with values from 0 to 1 as inputs."
   ]
  },
  {
   "cell_type": "code",
   "execution_count": 7,
   "metadata": {},
   "outputs": [],
   "source": [
    "### This is an example of a more complex data augmentation generator.\n",
    "### Here we probably don't need it, so I leave it in case it is useful for the challenge\n",
    "### at the bottom of the notebook\n",
    "# train_datagen = ImageDataGenerator(\n",
    "#         rotation_range=40,\n",
    "#         rescale=1./255,\n",
    "#         width_shift_range=0.2,\n",
    "#         height_shift_range=0.2,\n",
    "#         shear_range=0.2,\n",
    "#         zoom_range=0.2,\n",
    "#         horizontal_flip=True,\n",
    "#         fill_mode='nearest')\n",
    "\n",
    "train_datagen = ImageDataGenerator(rescale=1./255)\n",
    "\n",
    "test_datagen = ImageDataGenerator(rescale=1./255)\n",
    "\n",
    "train_generator = train_datagen.flow(\n",
    "        x_train,  \n",
    "        y_train_enc,\n",
    "        batch_size=batch_size)\n",
    "\n",
    "# this is a similar generator, for validation data\n",
    "validation_generator = test_datagen.flow(\n",
    "        x_test,\n",
    "        y_test_enc,\n",
    "        batch_size=batch_size)"
   ]
  },
  {
   "cell_type": "markdown",
   "metadata": {},
   "source": [
    "### Switch to transfer learning approach"
   ]
  },
  {
   "cell_type": "code",
   "execution_count": 8,
   "metadata": {
    "scrolled": true
   },
   "outputs": [
    {
     "ename": "ValueError",
     "evalue": "The input must have 3 channels; got `input_shape=(28, 28, 1)`",
     "output_type": "error",
     "traceback": [
      "\u001b[0;31m---------------------------------------------------------------------------\u001b[0m",
      "\u001b[0;31mValueError\u001b[0m                                Traceback (most recent call last)",
      "\u001b[0;32m<ipython-input-8-e48fff45b6ca>\u001b[0m in \u001b[0;36m<module>\u001b[0;34m()\u001b[0m\n\u001b[1;32m      5\u001b[0m \u001b[0;31m# create the base pre-trained model\u001b[0m\u001b[0;34m\u001b[0m\u001b[0;34m\u001b[0m\u001b[0m\n\u001b[1;32m      6\u001b[0m \u001b[0;31m# base_model = xception.Xception(weights='imagenet', include_top=False, input_shape=(75,75,3))\u001b[0m\u001b[0;34m\u001b[0m\u001b[0;34m\u001b[0m\u001b[0m\n\u001b[0;32m----> 7\u001b[0;31m \u001b[0mbase_model\u001b[0m \u001b[0;34m=\u001b[0m \u001b[0mvgg16\u001b[0m\u001b[0;34m.\u001b[0m\u001b[0mVGG16\u001b[0m\u001b[0;34m(\u001b[0m\u001b[0mweights\u001b[0m\u001b[0;34m=\u001b[0m\u001b[0;34m'imagenet'\u001b[0m\u001b[0;34m,\u001b[0m \u001b[0minclude_top\u001b[0m\u001b[0;34m=\u001b[0m\u001b[0mFalse\u001b[0m\u001b[0;34m,\u001b[0m \u001b[0minput_shape\u001b[0m\u001b[0;34m=\u001b[0m\u001b[0;34m(\u001b[0m\u001b[0;36m28\u001b[0m\u001b[0;34m,\u001b[0m \u001b[0;36m28\u001b[0m\u001b[0;34m,\u001b[0m \u001b[0;36m1\u001b[0m\u001b[0;34m)\u001b[0m\u001b[0;34m)\u001b[0m\u001b[0;34m\u001b[0m\u001b[0m\n\u001b[0m\u001b[1;32m      8\u001b[0m \u001b[0;34m\u001b[0m\u001b[0m\n\u001b[1;32m      9\u001b[0m \u001b[0;31m# Notice that we did not include the top of the neural network, which is the set of densely connected\u001b[0m\u001b[0;34m\u001b[0m\u001b[0;34m\u001b[0m\u001b[0m\n",
      "\u001b[0;32m/home/paperspace/.local/lib/python2.7/site-packages/keras/applications/vgg16.pyc\u001b[0m in \u001b[0;36mVGG16\u001b[0;34m(include_top, weights, input_tensor, input_shape, pooling, classes)\u001b[0m\n\u001b[1;32m    104\u001b[0m                                       \u001b[0mdata_format\u001b[0m\u001b[0;34m=\u001b[0m\u001b[0mK\u001b[0m\u001b[0;34m.\u001b[0m\u001b[0mimage_data_format\u001b[0m\u001b[0;34m(\u001b[0m\u001b[0;34m)\u001b[0m\u001b[0;34m,\u001b[0m\u001b[0;34m\u001b[0m\u001b[0m\n\u001b[1;32m    105\u001b[0m                                       \u001b[0mrequire_flatten\u001b[0m\u001b[0;34m=\u001b[0m\u001b[0minclude_top\u001b[0m\u001b[0;34m,\u001b[0m\u001b[0;34m\u001b[0m\u001b[0m\n\u001b[0;32m--> 106\u001b[0;31m                                       weights=weights)\n\u001b[0m\u001b[1;32m    107\u001b[0m \u001b[0;34m\u001b[0m\u001b[0m\n\u001b[1;32m    108\u001b[0m     \u001b[0;32mif\u001b[0m \u001b[0minput_tensor\u001b[0m \u001b[0;32mis\u001b[0m \u001b[0mNone\u001b[0m\u001b[0;34m:\u001b[0m\u001b[0;34m\u001b[0m\u001b[0m\n",
      "\u001b[0;32m/home/paperspace/.local/lib/python2.7/site-packages/keras/applications/imagenet_utils.pyc\u001b[0m in \u001b[0;36m_obtain_input_shape\u001b[0;34m(input_shape, default_size, min_size, data_format, require_flatten, weights)\u001b[0m\n\u001b[1;32m    292\u001b[0m                 \u001b[0;32mif\u001b[0m \u001b[0minput_shape\u001b[0m\u001b[0;34m[\u001b[0m\u001b[0;34m-\u001b[0m\u001b[0;36m1\u001b[0m\u001b[0;34m]\u001b[0m \u001b[0;34m!=\u001b[0m \u001b[0;36m3\u001b[0m \u001b[0;32mand\u001b[0m \u001b[0mweights\u001b[0m \u001b[0;34m==\u001b[0m \u001b[0;34m'imagenet'\u001b[0m\u001b[0;34m:\u001b[0m\u001b[0;34m\u001b[0m\u001b[0m\n\u001b[1;32m    293\u001b[0m                     raise ValueError('The input must have 3 channels; got '\n\u001b[0;32m--> 294\u001b[0;31m                                      '`input_shape=' + str(input_shape) + '`')\n\u001b[0m\u001b[1;32m    295\u001b[0m                 if ((input_shape[0] is not None and input_shape[0] < min_size) or\n\u001b[1;32m    296\u001b[0m                    (input_shape[1] is not None and input_shape[1] < min_size)):\n",
      "\u001b[0;31mValueError\u001b[0m: The input must have 3 channels; got `input_shape=(28, 28, 1)`"
     ]
    }
   ],
   "source": [
    "#################################################################\n",
    "############## Transfer Model 1 #################################\n",
    "#################################################################\n",
    "\n",
    "# create the base pre-trained model\n",
    "# base_model = xception.Xception(weights='imagenet', include_top=False, input_shape=(75,75,3))\n",
    "base_model = vgg16.VGG16(weights='imagenet', include_top=False, input_shape=(28, 28, 1))\n",
    "x = base_model.output\n",
    "\n",
    "# Notice that we did not include the top of the neural network, which is the set of densely connected\n",
    "# layers that where used to convert the output of the convolutional layers that find image features\n",
    "# into the 1000 classes of the ImageNet dataset\n",
    "\n",
    "### We need a normalization layer here to get the model output in a form we can send to a dense layer $$$\n",
    "# x = BatchNormalization()(x)\n",
    "x = GlobalAveragePooling2D()(x)\n",
    "# x = GlobalMaxPooling2D()(x)\n",
    "\n",
    "# let's add fully-connected layers, using dropout as a way to keep the network\n",
    "# from overfitting to the training data (regularization)\n",
    "x = Dense(1024, activation='relu')(x)\n",
    "x = Dropout(0.2)(x)\n",
    "x = Dense(512, activation='relu')(x)\n",
    "x = Dropout(0.2)(x)\n",
    "x = Dense(256, activation='relu')(x)\n",
    "x = Dropout(0.2)(x)\n",
    "# x = Dense(128, activation='relu')(x)\n",
    "# x = Dropout(0.5)(x)\n",
    "\n",
    "# And the final softmax layer, which will output probabilities from 0 to 1\n",
    "predictions = Dense(10, activation='softmax')(x)\n",
    "\n",
    "# this is the model we will train\n",
    "model_transfer = Model(inputs=base_model.input, outputs=predictions)\n",
    "\n",
    "# first: train only the top layers (which were randomly initialized)\n",
    "# i.e. freeze all convolutional VGG-16 layers, which have already been trained\n",
    "# to perform well on the ImageNet dataset\n",
    "for layer in base_model.layers:\n",
    "    layer.trainable = False\n",
    "\n",
    "### We use adam as the optimizer. A few examples are commented out showing that we \n",
    "### can adjust many of the learning parameters of stochastic gradient descent if we want to\n",
    "model_transfer.compile(optimizer='adam', loss='categorical_crossentropy', metrics=[\"accuracy\"])\n",
    "# model.compile(optimizer='nadam', loss='categorical_crossentropy', metrics=[\"accuracy\"])\n",
    "# model.compile(optimizer = optimizers.SGD(lr=0.001, momentum=0.9, nesterov=True, decay=1e-6), \\\n",
    "#               loss='categorical_crossentropy', metrics=[\"accuracy\"])"
   ]
  },
  {
   "cell_type": "markdown",
   "metadata": {},
   "source": [
    "When we built our network up from scratch, we defined everything about our network, so the inputs could be whatever size we wanted. However, for transfer learning we must respect the original network size a bit more. VGG-16 was trained on 3-channel RGB images, and it needs to see those in order to function properly.\n",
    "\n",
    "Our images only have one channel, so we'll just duplicate the image and it put copies of it in the second and third channels."
   ]
  },
  {
   "cell_type": "code",
   "execution_count": 10,
   "metadata": {},
   "outputs": [],
   "source": [
    "### Extract the current image parameters, define the new 3 channel shape ###\n",
    "num_images, image_x, image_y, channels = x_train.shape\n",
    "new_shape = (num_images, image_x, image_y, 3)\n",
    "x_train_3c = np.zeros(new_shape) ## Empty array to hold the new 3 channel images"
   ]
  },
  {
   "cell_type": "code",
   "execution_count": 11,
   "metadata": {},
   "outputs": [],
   "source": [
    "### Let's write the one channel images into the 3 empty channels of our new array ###\n",
    "x_train_3c[:,:,:,0] = x_train[:,:,:,0]\n",
    "x_train_3c[:,:,:,1] = x_train[:,:,:,0]\n",
    "x_train_3c[:,:,:,2] = x_train[:,:,:,0]"
   ]
  },
  {
   "cell_type": "code",
   "execution_count": 12,
   "metadata": {
    "scrolled": true
   },
   "outputs": [
    {
     "ename": "ValueError",
     "evalue": "Input size must be at least 48x48; got `input_shape=(28, 28, 3)`",
     "output_type": "error",
     "traceback": [
      "\u001b[0;31m---------------------------------------------------------------------------\u001b[0m",
      "\u001b[0;31mValueError\u001b[0m                                Traceback (most recent call last)",
      "\u001b[0;32m<ipython-input-12-3a02194128b1>\u001b[0m in \u001b[0;36m<module>\u001b[0;34m()\u001b[0m\n\u001b[1;32m      5\u001b[0m \u001b[0;31m# create the base pre-trained model\u001b[0m\u001b[0;34m\u001b[0m\u001b[0;34m\u001b[0m\u001b[0m\n\u001b[1;32m      6\u001b[0m \u001b[0;31m# base_model = xception.Xception(weights='imagenet', include_top=False, input_shape=(75,75,3))\u001b[0m\u001b[0;34m\u001b[0m\u001b[0;34m\u001b[0m\u001b[0m\n\u001b[0;32m----> 7\u001b[0;31m \u001b[0mbase_model\u001b[0m \u001b[0;34m=\u001b[0m \u001b[0mvgg16\u001b[0m\u001b[0;34m.\u001b[0m\u001b[0mVGG16\u001b[0m\u001b[0;34m(\u001b[0m\u001b[0mweights\u001b[0m\u001b[0;34m=\u001b[0m\u001b[0;34m'imagenet'\u001b[0m\u001b[0;34m,\u001b[0m \u001b[0minclude_top\u001b[0m\u001b[0;34m=\u001b[0m\u001b[0mFalse\u001b[0m\u001b[0;34m,\u001b[0m \u001b[0minput_shape\u001b[0m\u001b[0;34m=\u001b[0m\u001b[0;34m(\u001b[0m\u001b[0;36m28\u001b[0m\u001b[0;34m,\u001b[0m \u001b[0;36m28\u001b[0m\u001b[0;34m,\u001b[0m \u001b[0;36m3\u001b[0m\u001b[0;34m)\u001b[0m\u001b[0;34m)\u001b[0m\u001b[0;34m\u001b[0m\u001b[0m\n\u001b[0m\u001b[1;32m      8\u001b[0m \u001b[0;34m\u001b[0m\u001b[0m\n\u001b[1;32m      9\u001b[0m \u001b[0;34m\u001b[0m\u001b[0m\n",
      "\u001b[0;32m/home/paperspace/.local/lib/python2.7/site-packages/keras/applications/vgg16.pyc\u001b[0m in \u001b[0;36mVGG16\u001b[0;34m(include_top, weights, input_tensor, input_shape, pooling, classes)\u001b[0m\n\u001b[1;32m    104\u001b[0m                                       \u001b[0mdata_format\u001b[0m\u001b[0;34m=\u001b[0m\u001b[0mK\u001b[0m\u001b[0;34m.\u001b[0m\u001b[0mimage_data_format\u001b[0m\u001b[0;34m(\u001b[0m\u001b[0;34m)\u001b[0m\u001b[0;34m,\u001b[0m\u001b[0;34m\u001b[0m\u001b[0m\n\u001b[1;32m    105\u001b[0m                                       \u001b[0mrequire_flatten\u001b[0m\u001b[0;34m=\u001b[0m\u001b[0minclude_top\u001b[0m\u001b[0;34m,\u001b[0m\u001b[0;34m\u001b[0m\u001b[0m\n\u001b[0;32m--> 106\u001b[0;31m                                       weights=weights)\n\u001b[0m\u001b[1;32m    107\u001b[0m \u001b[0;34m\u001b[0m\u001b[0m\n\u001b[1;32m    108\u001b[0m     \u001b[0;32mif\u001b[0m \u001b[0minput_tensor\u001b[0m \u001b[0;32mis\u001b[0m \u001b[0mNone\u001b[0m\u001b[0;34m:\u001b[0m\u001b[0;34m\u001b[0m\u001b[0m\n",
      "\u001b[0;32m/home/paperspace/.local/lib/python2.7/site-packages/keras/applications/imagenet_utils.pyc\u001b[0m in \u001b[0;36m_obtain_input_shape\u001b[0;34m(input_shape, default_size, min_size, data_format, require_flatten, weights)\u001b[0m\n\u001b[1;32m    297\u001b[0m                     raise ValueError('Input size must be at least ' +\n\u001b[1;32m    298\u001b[0m                                      \u001b[0mstr\u001b[0m\u001b[0;34m(\u001b[0m\u001b[0mmin_size\u001b[0m\u001b[0;34m)\u001b[0m \u001b[0;34m+\u001b[0m \u001b[0;34m'x'\u001b[0m \u001b[0;34m+\u001b[0m \u001b[0mstr\u001b[0m\u001b[0;34m(\u001b[0m\u001b[0mmin_size\u001b[0m\u001b[0;34m)\u001b[0m \u001b[0;34m+\u001b[0m \u001b[0;34m'; got '\u001b[0m\u001b[0;34m\u001b[0m\u001b[0m\n\u001b[0;32m--> 299\u001b[0;31m                                      '`input_shape=' + str(input_shape) + '`')\n\u001b[0m\u001b[1;32m    300\u001b[0m     \u001b[0;32melse\u001b[0m\u001b[0;34m:\u001b[0m\u001b[0;34m\u001b[0m\u001b[0m\n\u001b[1;32m    301\u001b[0m         \u001b[0;32mif\u001b[0m \u001b[0mrequire_flatten\u001b[0m\u001b[0;34m:\u001b[0m\u001b[0;34m\u001b[0m\u001b[0m\n",
      "\u001b[0;31mValueError\u001b[0m: Input size must be at least 48x48; got `input_shape=(28, 28, 3)`"
     ]
    }
   ],
   "source": [
    "#################################################################\n",
    "############## Transfer Model 1 (Fixed) #########################\n",
    "#################################################################\n",
    "\n",
    "# create the base pre-trained model\n",
    "# base_model = xception.Xception(weights='imagenet', include_top=False, input_shape=(75,75,3))\n",
    "base_model = vgg16.VGG16(weights='imagenet', include_top=False, input_shape=(28, 28, 3))\n",
    "x = base_model.output\n",
    "\n",
    "# Notice that we did not include the top of the neural network, which is the set of densely connected\n",
    "# layers that where used to convert the output of the convolutional layers that find image features\n",
    "# into the 1000 classes of the ImageNet dataset\n",
    "\n",
    "### We need a normalization layer here to get the model output in a form we can send to a dense layer $$$\n",
    "# x = BatchNormalization()(x)\n",
    "x = GlobalAveragePooling2D()(x)\n",
    "# x = GlobalMaxPooling2D()(x)\n",
    "\n",
    "# let's add fully-connected layers, using dropout as a way to keep the network\n",
    "# from overfitting to the training data (regularization)\n",
    "x = Dense(1024, activation='relu')(x)\n",
    "x = Dropout(0.2)(x)\n",
    "x = Dense(512, activation='relu')(x)\n",
    "x = Dropout(0.2)(x)\n",
    "x = Dense(256, activation='relu')(x)\n",
    "x = Dropout(0.2)(x)\n",
    "# x = Dense(128, activation='relu')(x)\n",
    "# x = Dropout(0.5)(x)\n",
    "\n",
    "# And the final softmax layer, which will output probabilities from 0 to 1\n",
    "predictions = Dense(10, activation='softmax')(x)\n",
    "\n",
    "# this is the model we will train\n",
    "model_transfer = Model(inputs=base_model.input, outputs=predictions)\n",
    "\n",
    "# first: train only the top layers (which were randomly initialized)\n",
    "# i.e. freeze all convolutional VGG-16 layers, which have already been trained\n",
    "# to perform well on the ImageNet dataset\n",
    "for layer in base_model.layers:\n",
    "    layer.trainable = False\n",
    "\n",
    "### We use adam as the optimizer. A few examples are commented out showing that we \n",
    "### can adjust many of the learning parameters of stochastic gradient descent if we want to\n",
    "model_transfer.compile(optimizer='adam', loss='categorical_crossentropy', metrics=[\"accuracy\"])\n",
    "# model.compile(optimizer='nadam', loss='categorical_crossentropy', metrics=[\"accuracy\"])\n",
    "# model.compile(optimizer = optimizers.SGD(lr=0.001, momentum=0.9, nesterov=True, decay=1e-6), \\\n",
    "#               loss='categorical_crossentropy', metrics=[\"accuracy\"])"
   ]
  },
  {
   "cell_type": "markdown",
   "metadata": {},
   "source": [
    "Now we have the correct number of channels, but the model can't take images at that low of resolution. With a bit of work we can get around this, let's hope it's worth it in the end! This took a bit of figuring with SciPy's two-dimensional interpolation function, please see the associated docs here: https://docs.scipy.org/doc/scipy-0.14.0/reference/generated/scipy.interpolate.interp2d.html"
   ]
  },
  {
   "cell_type": "code",
   "execution_count": 13,
   "metadata": {},
   "outputs": [],
   "source": [
    "from scipy.interpolate import interp2d"
   ]
  },
  {
   "cell_type": "code",
   "execution_count": 14,
   "metadata": {},
   "outputs": [],
   "source": [
    "#### This all took about 30 seconds to run on the Paperspace VM ####\n",
    "\n",
    "### Get the original image indices in x and y ###\n",
    "orig_x_ind = range(image_x)\n",
    "orig_y_ind = range(image_y)\n",
    "\n",
    "### Create a grid of new values, with points interpolated between ###\n",
    "new_x_values = np.arange(0, image_x, 0.5)\n",
    "new_y_values = np.arange(0, image_y, 0.5)\n",
    "\n",
    "### Create an empty array with enough space to hold the new grid ###\n",
    "new_shape_exp = (num_images, len(new_x_values), len(new_y_values), 3)\n",
    "x_train_3c_exp = np.zeros(new_shape_exp)\n",
    "\n",
    "### Iterate through the images, interpolating for each one on the new grid ###\n",
    "for i in range(x_train.shape[0]):\n",
    "    ### Extract the interpolation function for this particular image ###\n",
    "    interp_fn = interp2d(orig_x_ind, orig_y_ind, x_train[i,:,:,0])\n",
    "    \n",
    "    ### Perform the interpolation ###\n",
    "    interp_image = interp_fn(new_x_values, new_y_values)\n",
    "    \n",
    "    ### Put the interpolated image into each of the three channels ###\n",
    "    x_train_3c_exp[i, :, :, 0] = interp_image \n",
    "    x_train_3c_exp[i, :, :, 1] = interp_image \n",
    "    x_train_3c_exp[i, :, :, 2] = interp_image "
   ]
  },
  {
   "cell_type": "code",
   "execution_count": 15,
   "metadata": {},
   "outputs": [
    {
     "data": {
      "image/png": "[encoded data removed]",
      "text/plain": [
       "<matplotlib.figure.Figure at 0x7f7c9eaa0a90>"
      ]
     },
     "metadata": {},
     "output_type": "display_data"
    }
   ],
   "source": [
    "### Let's check out a sample of our new interpolated/higher-resolution images ###\n",
    "plt.figure(figsize=(16,6.5))\n",
    "num_images = 5\n",
    "for i in range(num_images):\n",
    "    plt.subplot(2,num_images,i+1); \n",
    "    plt.imshow(x_train_3c[i,:,:,0], cmap='gray')\n",
    "    \n",
    "    plt.subplot(2,num_images,num_images + i + 1); \n",
    "    plt.imshow(x_train_3c_exp[i,:,:,0], cmap='gray')"
   ]
  },
  {
   "cell_type": "markdown",
   "metadata": {},
   "source": [
    "This seems to have worked, let's not forget to do it for the test set as well."
   ]
  },
  {
   "cell_type": "code",
   "execution_count": 17,
   "metadata": {},
   "outputs": [],
   "source": [
    "#### Image interpolation for the test image set ###\n",
    "num_images_test = x_test.shape[0]\n",
    "new_shape_test_exp = (num_images_test, len(new_x_values), len(new_y_values), 3)\n",
    "\n",
    "x_test_3c_exp = np.zeros(new_shape_test_exp)\n",
    "\n",
    "for i in range(x_test.shape[0]):\n",
    "    \n",
    "    interp_fn = interp2d(orig_x_ind, orig_y_ind, x_test[i,:,:,0])\n",
    "    \n",
    "    interp_image = interp_fn(new_x_values, new_y_values)\n",
    "    \n",
    "    x_test_3c_exp[i, :, :, 0] = interp_image \n",
    "    x_test_3c_exp[i, :, :, 1] = interp_image \n",
    "    x_test_3c_exp[i, :, :, 2] = interp_image "
   ]
  },
  {
   "cell_type": "markdown",
   "metadata": {},
   "source": [
    "OK, so now we have our high resolution interpolated images. Let's run the transfer model and see if it was all worth it."
   ]
  },
  {
   "cell_type": "code",
   "execution_count": 16,
   "metadata": {},
   "outputs": [],
   "source": [
    "#################################################################\n",
    "############## Transfer Model 1 (Fixed+) #########################\n",
    "#################################################################\n",
    "\n",
    "# create the base pre-trained model\n",
    "# base_model = xception.Xception(weights='imagenet', include_top=False, input_shape=(75,75,3))\n",
    "base_model = vgg16.VGG16(weights='imagenet', include_top=False, input_shape=(56, 56, 3))\n",
    "x = base_model.output\n",
    "\n",
    "# Notice that we did not include the top of the neural network, which is the set of densely connected\n",
    "# layers that where used to convert the output of the convolutional layers that find image features\n",
    "# into the 1000 classes of the ImageNet dataset\n",
    "\n",
    "### We need a normalization layer here to get the model output in a form we can send to a dense layer $$$\n",
    "# x = BatchNormalization()(x)\n",
    "x = GlobalAveragePooling2D()(x)\n",
    "# x = GlobalMaxPooling2D()(x)\n",
    "\n",
    "# let's add fully-connected layers, using dropout as a way to keep the network\n",
    "# from overfitting to the training data (regularization)\n",
    "x = Dense(1024, activation='relu')(x)\n",
    "x = Dropout(0.2)(x)\n",
    "x = Dense(512, activation='relu')(x)\n",
    "x = Dropout(0.2)(x)\n",
    "x = Dense(256, activation='relu')(x)\n",
    "x = Dropout(0.2)(x)\n",
    "# x = Dense(128, activation='relu')(x)\n",
    "# x = Dropout(0.5)(x)\n",
    "\n",
    "# And the final softmax layer, which will output probabilities from 0 to 1\n",
    "predictions = Dense(10, activation='softmax')(x)\n",
    "\n",
    "# this is the model we will train\n",
    "model_transfer = Model(inputs=base_model.input, outputs=predictions)\n",
    "\n",
    "# first: train only the top layers (which were randomly initialized)\n",
    "# i.e. freeze all convolutional VGG-16 layers, which have already been trained\n",
    "# to perform well on the ImageNet dataset\n",
    "for layer in base_model.layers:\n",
    "    layer.trainable = False\n",
    "\n",
    "### We use adam as the optimizer. A few examples are commented out showing that we \n",
    "### can adjust many of the learning parameters of stochastic gradient descent if we want to\n",
    "model_transfer.compile(optimizer='adam', loss='categorical_crossentropy', metrics=[\"accuracy\"])\n",
    "# model.compile(optimizer='nadam', loss='categorical_crossentropy', metrics=[\"accuracy\"])\n",
    "# model.compile(optimizer = optimizers.SGD(lr=0.001, momentum=0.9, nesterov=True, decay=1e-6), \\\n",
    "#               loss='categorical_crossentropy', metrics=[\"accuracy\"])"
   ]
  },
  {
   "cell_type": "code",
   "execution_count": 18,
   "metadata": {},
   "outputs": [],
   "source": [
    "train_datagen = ImageDataGenerator(rescale=1./255)\n",
    "\n",
    "train_generator = train_datagen.flow(\n",
    "        x_train_3c_exp,  \n",
    "        y_train_enc,\n",
    "        batch_size=batch_size)"
   ]
  },
  {
   "cell_type": "code",
   "execution_count": 19,
   "metadata": {
    "scrolled": true
   },
   "outputs": [
    {
     "name": "stdout",
     "output_type": "stream",
     "text": [
      "Epoch 1/20\n",
      "468/468 [==============================] - 30s 65ms/step - loss: 0.2959 - acc: 0.9037 - val_loss: 6.5087 - val_acc: 0.5665\n",
      "Epoch 2/20\n",
      "468/468 [==============================] - 27s 58ms/step - loss: 0.1275 - acc: 0.9595 - val_loss: 6.1298 - val_acc: 0.5971\n",
      "Epoch 3/20\n",
      "468/468 [==============================] - 28s 59ms/step - loss: 0.1036 - acc: 0.9667 - val_loss: 6.8053 - val_acc: 0.5547\n",
      "Epoch 4/20\n",
      "468/468 [==============================] - 27s 59ms/step - loss: 0.0957 - acc: 0.9698 - val_loss: 6.6710 - val_acc: 0.5638\n",
      "Epoch 5/20\n",
      "468/468 [==============================] - 28s 59ms/step - loss: 0.0887 - acc: 0.9723 - val_loss: 6.3803 - val_acc: 0.5859\n",
      "Epoch 6/20\n",
      "468/468 [==============================] - 28s 59ms/step - loss: 0.0794 - acc: 0.9741 - val_loss: 7.2782 - val_acc: 0.5296\n",
      "Epoch 7/20\n",
      "468/468 [==============================] - 28s 59ms/step - loss: 0.0767 - acc: 0.9758 - val_loss: 6.8739 - val_acc: 0.5555\n",
      "Epoch 8/20\n",
      "468/468 [==============================] - 28s 59ms/step - loss: 0.0703 - acc: 0.9773 - val_loss: 6.8792 - val_acc: 0.5558\n",
      "Epoch 9/20\n",
      "468/468 [==============================] - 28s 59ms/step - loss: 0.0662 - acc: 0.9786 - val_loss: 7.8630 - val_acc: 0.4963\n",
      "Epoch 10/20\n",
      "468/468 [==============================] - 28s 59ms/step - loss: 0.0642 - acc: 0.9794 - val_loss: 7.7169 - val_acc: 0.5065\n",
      "Epoch 11/20\n",
      "468/468 [==============================] - 28s 60ms/step - loss: 0.0565 - acc: 0.9817 - val_loss: 8.1513 - val_acc: 0.4810\n",
      "Epoch 12/20\n",
      "468/468 [==============================] - 28s 59ms/step - loss: 0.0563 - acc: 0.9818 - val_loss: 7.4003 - val_acc: 0.5278\n",
      "Epoch 13/20\n",
      "468/468 [==============================] - 28s 59ms/step - loss: 0.0521 - acc: 0.9829 - val_loss: 8.2682 - val_acc: 0.4724\n",
      "Epoch 14/20\n",
      "468/468 [==============================] - 28s 59ms/step - loss: 0.0555 - acc: 0.9821 - val_loss: 8.1838 - val_acc: 0.4798\n",
      "Epoch 15/20\n",
      "468/468 [==============================] - 28s 59ms/step - loss: 0.0499 - acc: 0.9833 - val_loss: 8.0235 - val_acc: 0.4894\n",
      "Epoch 16/20\n",
      "468/468 [==============================] - 28s 60ms/step - loss: 0.0475 - acc: 0.9843 - val_loss: 8.2093 - val_acc: 0.4785\n",
      "Epoch 17/20\n",
      "468/468 [==============================] - 28s 59ms/step - loss: 0.0476 - acc: 0.9841 - val_loss: 7.7299 - val_acc: 0.5072\n",
      "Epoch 18/20\n",
      "468/468 [==============================] - 28s 59ms/step - loss: 0.0458 - acc: 0.9850 - val_loss: 8.0355 - val_acc: 0.4884\n",
      "Epoch 19/20\n",
      "468/468 [==============================] - 28s 59ms/step - loss: 0.0429 - acc: 0.9859 - val_loss: 8.1757 - val_acc: 0.4805\n",
      "Epoch 20/20\n",
      "468/468 [==============================] - 28s 60ms/step - loss: 0.0419 - acc: 0.9865 - val_loss: 8.7268 - val_acc: 0.4471\n"
     ]
    }
   ],
   "source": [
    "history = model_transfer.fit_generator(train_generator, x_train_3c_exp.shape[0] // batch_size, \\\n",
    "                                    epochs=20, verbose=1, validation_data=(x_test_3c_exp, y_test_enc))\n",
    "model_transfer.save_weights('./models/transfer_architecture_1.h5')\n",
    "pd.DataFrame(history.history).to_csv('./models/transfer_architecture_1.csv', index=True)"
   ]
  },
  {
   "cell_type": "code",
   "execution_count": 20,
   "metadata": {},
   "outputs": [
    {
     "data": {
      "text/plain": [
       "[<matplotlib.lines.Line2D at 0x7f7c9eaa0650>]"
      ]
     },
     "execution_count": 20,
     "metadata": {},
     "output_type": "execute_result"
    },
    {
     "data": {
      "image/png": "[encoded data removed]",
      "text/plain": [
       "<matplotlib.figure.Figure at 0x7f7c9eaa06d0>"
      ]
     },
     "metadata": {},
     "output_type": "display_data"
    }
   ],
   "source": [
    "plt.plot(history.history['acc'])\n",
    "plt.plot(history.history['val_acc'])"
   ]
  },
  {
   "cell_type": "markdown",
   "metadata": {},
   "source": [
    "That didn't go so well! However, we have not allowed any of the convolutional parts of the network to be trainable. Since this network was pre-trained on ImageNet, the shapes of the final layers may encode shapes that are very complex, and very different than the simple numbers we have. Let's look at the layers of the VGG-16 network."
   ]
  },
  {
   "cell_type": "code",
   "execution_count": 21,
   "metadata": {},
   "outputs": [
    {
     "name": "stdout",
     "output_type": "stream",
     "text": [
      "19\n"
     ]
    },
    {
     "data": {
      "text/plain": [
       "[<keras.engine.topology.InputLayer at 0x7f7b485000d0>,\n",
       " <keras.layers.convolutional.Conv2D at 0x7f7cae904dd0>,\n",
       " <keras.layers.convolutional.Conv2D at 0x7f7b484d0450>,\n",
       " <keras.layers.pooling.MaxPooling2D at 0x7f7b484d0690>,\n",
       " <keras.layers.convolutional.Conv2D at 0x7f7b4dd6fe10>,\n",
       " <keras.layers.convolutional.Conv2D at 0x7f7b4dd6f610>,\n",
       " <keras.layers.pooling.MaxPooling2D at 0x7f7b4848f590>,\n",
       " <keras.layers.convolutional.Conv2D at 0x7f7b483e4d50>,\n",
       " <keras.layers.convolutional.Conv2D at 0x7f7b483e4410>,\n",
       " <keras.layers.convolutional.Conv2D at 0x7f7b4840d090>,\n",
       " <keras.layers.pooling.MaxPooling2D at 0x7f7b4839de90>,\n",
       " <keras.layers.convolutional.Conv2D at 0x7f7b483c7fd0>,\n",
       " <keras.layers.convolutional.Conv2D at 0x7f7b483c7ad0>,\n",
       " <keras.layers.convolutional.Conv2D at 0x7f7b48371f90>,\n",
       " <keras.layers.pooling.MaxPooling2D at 0x7f7b4831d550>,\n",
       " <keras.layers.convolutional.Conv2D at 0x7f7b48346a10>,\n",
       " <keras.layers.convolutional.Conv2D at 0x7f7b483460d0>,\n",
       " <keras.layers.convolutional.Conv2D at 0x7f7b48357d10>,\n",
       " <keras.layers.pooling.MaxPooling2D at 0x7f7b48300b50>]"
      ]
     },
     "execution_count": 21,
     "metadata": {},
     "output_type": "execute_result"
    }
   ],
   "source": [
    "print(len(base_model.layers))\n",
    "base_model.layers"
   ]
  },
  {
   "cell_type": "markdown",
   "metadata": {},
   "source": [
    "Let's target making everything trainable in the final convolution/pooling layers, i.e. this is frozen, and everything else is trainable:"
   ]
  },
  {
   "cell_type": "code",
   "execution_count": 22,
   "metadata": {},
   "outputs": [
    {
     "data": {
      "text/plain": [
       "[<keras.engine.topology.InputLayer at 0x7f7b485000d0>,\n",
       " <keras.layers.convolutional.Conv2D at 0x7f7cae904dd0>,\n",
       " <keras.layers.convolutional.Conv2D at 0x7f7b484d0450>,\n",
       " <keras.layers.pooling.MaxPooling2D at 0x7f7b484d0690>,\n",
       " <keras.layers.convolutional.Conv2D at 0x7f7b4dd6fe10>,\n",
       " <keras.layers.convolutional.Conv2D at 0x7f7b4dd6f610>,\n",
       " <keras.layers.pooling.MaxPooling2D at 0x7f7b4848f590>,\n",
       " <keras.layers.convolutional.Conv2D at 0x7f7b483e4d50>,\n",
       " <keras.layers.convolutional.Conv2D at 0x7f7b483e4410>,\n",
       " <keras.layers.convolutional.Conv2D at 0x7f7b4840d090>,\n",
       " <keras.layers.pooling.MaxPooling2D at 0x7f7b4839de90>,\n",
       " <keras.layers.convolutional.Conv2D at 0x7f7b483c7fd0>,\n",
       " <keras.layers.convolutional.Conv2D at 0x7f7b483c7ad0>,\n",
       " <keras.layers.convolutional.Conv2D at 0x7f7b48371f90>,\n",
       " <keras.layers.pooling.MaxPooling2D at 0x7f7b4831d550>]"
      ]
     },
     "execution_count": 22,
     "metadata": {},
     "output_type": "execute_result"
    }
   ],
   "source": [
    "base_model.layers[:15]"
   ]
  },
  {
   "cell_type": "code",
   "execution_count": 23,
   "metadata": {},
   "outputs": [],
   "source": [
    "#################################################################\n",
    "############## Transfer Model 2 #################################\n",
    "#################################################################\n",
    "\n",
    "# create the base pre-trained model\n",
    "# base_model = xception.Xception(weights='imagenet', include_top=False, input_shape=(75,75,3))\n",
    "base_model = vgg16.VGG16(weights='imagenet', include_top=False, input_shape=(56, 56, 3))\n",
    "x = base_model.output\n",
    "\n",
    "# x = BatchNormalization()(x)\n",
    "x = GlobalAveragePooling2D()(x)\n",
    "# x = GlobalMaxPooling2D()(x)\n",
    "\n",
    "# let's add a fully-connected layer\n",
    "x = Dense(1024, activation='relu')(x)\n",
    "x = Dropout(0.2)(x)\n",
    "x = Dense(512, activation='relu')(x)\n",
    "x = Dropout(0.2)(x)\n",
    "x = Dense(256, activation='relu')(x)\n",
    "x = Dropout(0.2)(x)\n",
    "# x = Dense(128, activation='relu')(x)\n",
    "# x = Dropout(0.5)(x)\n",
    "\n",
    "# And the final softmax layer\n",
    "predictions = Dense(10, activation='softmax')(x)\n",
    "\n",
    "# this is the model we will train\n",
    "model_transfer = Model(inputs=base_model.input, outputs=predictions)\n",
    "\n",
    "freeze_layer = 15\n",
    "\n",
    "### Freeze layers ###\n",
    "for layer in base_model.layers[:freeze_layer]:\n",
    "    layer.trainable = False\n",
    "\n",
    "### Trainable layers ###\n",
    "for layer in base_model.layers[freeze_layer:]:\n",
    "    layer.trainable = True\n",
    "\n",
    "model_transfer.compile(optimizer='adam', loss='categorical_crossentropy', metrics=[\"accuracy\"])\n",
    "# model.compile(optimizer='nadam', loss='categorical_crossentropy', metrics=[\"accuracy\"])\n",
    "# model.compile(optimizer = optimizers.SGD(lr=0.001, momentum=0.9, nesterov=True, decay=1e-6), \\\n",
    "#               loss='categorical_crossentropy', metrics=[\"accuracy\"])"
   ]
  },
  {
   "cell_type": "code",
   "execution_count": 24,
   "metadata": {
    "scrolled": true
   },
   "outputs": [
    {
     "name": "stdout",
     "output_type": "stream",
     "text": [
      "Epoch 1/20\n",
      "468/468 [==============================] - 35s 76ms/step - loss: 0.1414 - acc: 0.9594 - val_loss: 0.3925 - val_acc: 0.9738\n",
      "Epoch 2/20\n",
      "468/468 [==============================] - 35s 75ms/step - loss: 0.0570 - acc: 0.9875 - val_loss: 0.4932 - val_acc: 0.9676\n",
      "Epoch 3/20\n",
      "468/468 [==============================] - 35s 75ms/step - loss: 0.0473 - acc: 0.9899 - val_loss: 0.3658 - val_acc: 0.9762\n",
      "Epoch 4/20\n",
      "468/468 [==============================] - 35s 75ms/step - loss: 0.0393 - acc: 0.9917 - val_loss: 0.7295 - val_acc: 0.9518\n",
      "Epoch 5/20\n",
      "468/468 [==============================] - 35s 75ms/step - loss: 0.0425 - acc: 0.9920 - val_loss: 0.3251 - val_acc: 0.9793\n",
      "Epoch 6/20\n",
      "468/468 [==============================] - 35s 75ms/step - loss: 0.0489 - acc: 0.9915 - val_loss: 0.4829 - val_acc: 0.9699\n",
      "Epoch 7/20\n",
      "468/468 [==============================] - 35s 75ms/step - loss: 0.0445 - acc: 0.9924 - val_loss: 0.2454 - val_acc: 0.9838\n",
      "Epoch 8/20\n",
      "468/468 [==============================] - 35s 75ms/step - loss: 0.0282 - acc: 0.9945 - val_loss: 0.7266 - val_acc: 0.9542\n",
      "Epoch 9/20\n",
      "468/468 [==============================] - 35s 75ms/step - loss: 0.0230 - acc: 0.9955 - val_loss: 0.4582 - val_acc: 0.9711\n",
      "Epoch 10/20\n",
      "468/468 [==============================] - 35s 75ms/step - loss: 0.0264 - acc: 0.9950 - val_loss: 0.3551 - val_acc: 0.9767\n",
      "Epoch 11/20\n",
      "468/468 [==============================] - 35s 76ms/step - loss: 0.0289 - acc: 0.9947 - val_loss: 0.4373 - val_acc: 0.9718\n",
      "Epoch 12/20\n",
      "468/468 [==============================] - 35s 75ms/step - loss: 0.0254 - acc: 0.9948 - val_loss: 0.2852 - val_acc: 0.9809\n",
      "Epoch 13/20\n",
      "468/468 [==============================] - 35s 76ms/step - loss: 0.0219 - acc: 0.9963 - val_loss: 0.3241 - val_acc: 0.9787\n",
      "Epoch 14/20\n",
      "468/468 [==============================] - 35s 75ms/step - loss: 0.0271 - acc: 0.9952 - val_loss: 0.2503 - val_acc: 0.9838\n",
      "Epoch 15/20\n",
      "468/468 [==============================] - 35s 76ms/step - loss: 0.0287 - acc: 0.9950 - val_loss: 0.4148 - val_acc: 0.9723\n",
      "Epoch 16/20\n",
      "468/468 [==============================] - 35s 75ms/step - loss: 0.0206 - acc: 0.9962 - val_loss: 0.3774 - val_acc: 0.9758\n",
      "Epoch 17/20\n",
      "468/468 [==============================] - 35s 76ms/step - loss: 0.0283 - acc: 0.9953 - val_loss: 0.5130 - val_acc: 0.9678\n",
      "Epoch 18/20\n",
      "468/468 [==============================] - 35s 75ms/step - loss: 0.0184 - acc: 0.9965 - val_loss: 0.3200 - val_acc: 0.9796\n",
      "Epoch 19/20\n",
      "468/468 [==============================] - 35s 75ms/step - loss: 0.0137 - acc: 0.9975 - val_loss: 0.3083 - val_acc: 0.9804\n",
      "Epoch 20/20\n",
      "468/468 [==============================] - 35s 75ms/step - loss: 0.0255 - acc: 0.9959 - val_loss: 0.2616 - val_acc: 0.98331s - loss\n"
     ]
    }
   ],
   "source": [
    "history = model_transfer.fit_generator(train_generator, x_train_3c_exp.shape[0] // batch_size, \\\n",
    "                                    epochs=20, verbose=1, validation_data=(x_test_3c_exp, y_test_enc))\n",
    "model_transfer.save_weights('./models/transfer_architecture_2.h5')\n",
    "pd.DataFrame(history.history).to_csv('./models/transfer_architecture_2.csv', index=True)"
   ]
  },
  {
   "cell_type": "code",
   "execution_count": 25,
   "metadata": {},
   "outputs": [
    {
     "data": {
      "text/plain": [
       "[<matplotlib.lines.Line2D at 0x7f7b4dfbb510>]"
      ]
     },
     "execution_count": 25,
     "metadata": {},
     "output_type": "execute_result"
    },
    {
     "data": {
      "image/png": "[encoded data removed]",
      "text/plain": [
       "<matplotlib.figure.Figure at 0x7f7b4dfbbe50>"
      ]
     },
     "metadata": {},
     "output_type": "display_data"
    }
   ],
   "source": [
    "plt.plot(history.history['acc'])\n",
    "plt.plot(history.history['val_acc'])"
   ]
  },
  {
   "cell_type": "markdown",
   "metadata": {},
   "source": [
    "We did a lot better there. Let's release a few more of the layers to be trainable, and see how we do."
   ]
  },
  {
   "cell_type": "code",
   "execution_count": 26,
   "metadata": {},
   "outputs": [
    {
     "data": {
      "text/plain": [
       "[<keras.engine.topology.InputLayer at 0x7f7b4e090d10>,\n",
       " <keras.layers.convolutional.Conv2D at 0x7f7b4dde6490>,\n",
       " <keras.layers.convolutional.Conv2D at 0x7f7c9eaa0050>,\n",
       " <keras.layers.pooling.MaxPooling2D at 0x7f7b4e0909d0>,\n",
       " <keras.layers.convolutional.Conv2D at 0x7f7b4e0760d0>,\n",
       " <keras.layers.convolutional.Conv2D at 0x7f7b4e076890>,\n",
       " <keras.layers.pooling.MaxPooling2D at 0x7f7b4e0b5310>,\n",
       " <keras.layers.convolutional.Conv2D at 0x7f7b4e0e5fd0>,\n",
       " <keras.layers.convolutional.Conv2D at 0x7f7b4e0e5d10>,\n",
       " <keras.layers.convolutional.Conv2D at 0x7f7b4e046050>,\n",
       " <keras.layers.pooling.MaxPooling2D at 0x7f7b4e037990>]"
      ]
     },
     "execution_count": 26,
     "metadata": {},
     "output_type": "execute_result"
    }
   ],
   "source": [
    "base_model.layers[:11]"
   ]
  },
  {
   "cell_type": "code",
   "execution_count": 27,
   "metadata": {},
   "outputs": [],
   "source": [
    "#################################################################\n",
    "############## Transfer Model 3 #################################\n",
    "#################################################################\n",
    "\n",
    "# create the base pre-trained model\n",
    "# base_model = xception.Xception(weights='imagenet', include_top=False, input_shape=(75,75,3))\n",
    "base_model = vgg16.VGG16(weights='imagenet', include_top=False, input_shape=(56, 56, 3))\n",
    "x = base_model.output\n",
    "\n",
    "# x = BatchNormalization()(x)\n",
    "x = GlobalAveragePooling2D()(x)\n",
    "# x = GlobalMaxPooling2D()(x)\n",
    "\n",
    "# let's add a fully-connected layer\n",
    "x = Dense(1024, activation='relu')(x)\n",
    "x = Dropout(0.2)(x)\n",
    "x = Dense(512, activation='relu')(x)\n",
    "x = Dropout(0.2)(x)\n",
    "x = Dense(256, activation='relu')(x)\n",
    "x = Dropout(0.2)(x)\n",
    "# x = Dense(128, activation='relu')(x)\n",
    "# x = Dropout(0.5)(x)\n",
    "\n",
    "# And the final softmax layer\n",
    "predictions = Dense(10, activation='softmax')(x)\n",
    "\n",
    "# this is the model we will train\n",
    "model_transfer = Model(inputs=base_model.input, outputs=predictions)\n",
    "\n",
    "freeze_layer = 11\n",
    "\n",
    "### Freeze layers ###\n",
    "for layer in base_model.layers[:freeze_layer]:\n",
    "    layer.trainable = False\n",
    "\n",
    "### Trainable layers ###\n",
    "for layer in base_model.layers[freeze_layer:]:\n",
    "    layer.trainable = True\n",
    "\n",
    "model_transfer.compile(optimizer='adam', loss='categorical_crossentropy', metrics=[\"accuracy\"])\n",
    "# model.compile(optimizer='nadam', loss='categorical_crossentropy', metrics=[\"accuracy\"])\n",
    "# model.compile(optimizer = optimizers.SGD(lr=0.001, momentum=0.9, nesterov=True, decay=1e-6), \\\n",
    "#               loss='categorical_crossentropy', metrics=[\"accuracy\"])"
   ]
  },
  {
   "cell_type": "code",
   "execution_count": 28,
   "metadata": {
    "scrolled": true
   },
   "outputs": [
    {
     "name": "stdout",
     "output_type": "stream",
     "text": [
      "Epoch 1/20\n",
      "468/468 [==============================] - 46s 99ms/step - loss: 0.6518 - acc: 0.7647 - val_loss: 0.4430 - val_acc: 0.9718\n",
      "Epoch 2/20\n",
      "468/468 [==============================] - 45s 96ms/step - loss: 0.0743 - acc: 0.9842 - val_loss: 0.4130 - val_acc: 0.9711\n",
      "Epoch 3/20\n",
      "468/468 [==============================] - 46s 98ms/step - loss: 0.0544 - acc: 0.9888 - val_loss: 0.2887 - val_acc: 0.9798\n",
      "Epoch 4/20\n",
      "468/468 [==============================] - 46s 98ms/step - loss: 0.0468 - acc: 0.9908 - val_loss: 0.9484 - val_acc: 0.9334\n",
      "Epoch 5/20\n",
      "468/468 [==============================] - 46s 98ms/step - loss: 0.0525 - acc: 0.9904 - val_loss: 0.2706 - val_acc: 0.9825\n",
      "Epoch 6/20\n",
      "468/468 [==============================] - 46s 98ms/step - loss: 0.0578 - acc: 0.9890 - val_loss: 0.3203 - val_acc: 0.9792\n",
      "Epoch 7/20\n",
      "468/468 [==============================] - 46s 98ms/step - loss: 0.0465 - acc: 0.9917 - val_loss: 0.3042 - val_acc: 0.9800\n",
      "Epoch 8/20\n",
      "468/468 [==============================] - 46s 99ms/step - loss: 0.0440 - acc: 0.9923 - val_loss: 0.3184 - val_acc: 0.9797\n",
      "Epoch 9/20\n",
      "468/468 [==============================] - 46s 98ms/step - loss: 0.0557 - acc: 0.9900 - val_loss: 0.1808 - val_acc: 0.9880\n",
      "Epoch 10/20\n",
      "468/468 [==============================] - 46s 99ms/step - loss: 0.0415 - acc: 0.9929 - val_loss: 0.5231 - val_acc: 0.9649\n",
      "Epoch 11/20\n",
      "468/468 [==============================] - 46s 98ms/step - loss: 0.0372 - acc: 0.9935 - val_loss: 0.4129 - val_acc: 0.9727\n",
      "Epoch 12/20\n",
      "468/468 [==============================] - 46s 98ms/step - loss: 0.0394 - acc: 0.9931 - val_loss: 0.3555 - val_acc: 0.9766\n",
      "Epoch 13/20\n",
      "468/468 [==============================] - 46s 98ms/step - loss: 0.0295 - acc: 0.9946 - val_loss: 0.2563 - val_acc: 0.9826\n",
      "Epoch 14/20\n",
      "468/468 [==============================] - 46s 98ms/step - loss: 0.0527 - acc: 0.9908 - val_loss: 0.2368 - val_acc: 0.9822\n",
      "Epoch 15/20\n",
      "468/468 [==============================] - 46s 98ms/step - loss: 0.0386 - acc: 0.9940 - val_loss: 0.2006 - val_acc: 0.9873\n",
      "Epoch 16/20\n",
      "468/468 [==============================] - 46s 98ms/step - loss: 0.0492 - acc: 0.9915 - val_loss: 0.2276 - val_acc: 0.9855\n",
      "Epoch 17/20\n",
      "468/468 [==============================] - 46s 98ms/step - loss: 0.0566 - acc: 0.9897 - val_loss: 0.2159 - val_acc: 0.9846\n",
      "Epoch 18/20\n",
      "468/468 [==============================] - 46s 98ms/step - loss: 0.0433 - acc: 0.9933 - val_loss: 0.2212 - val_acc: 0.9854\n",
      "Epoch 19/20\n",
      "468/468 [==============================] - 46s 98ms/step - loss: 0.0374 - acc: 0.9940 - val_loss: 0.1850 - val_acc: 0.9874\n",
      "Epoch 20/20\n",
      "468/468 [==============================] - 46s 98ms/step - loss: 0.0545 - acc: 0.9911 - val_loss: 0.2134 - val_acc: 0.9865\n"
     ]
    }
   ],
   "source": [
    "history = model_transfer.fit_generator(train_generator, x_train_3c_exp.shape[0] // batch_size, \\\n",
    "                                    epochs=20, verbose=1, validation_data=(x_test_3c_exp, y_test_enc))\n",
    "model_transfer.save_weights('./models/transfer_architecture_3.h5')\n",
    "pd.DataFrame(history.history).to_csv('./models/transfer_architecture_3.csv', index=True)"
   ]
  },
  {
   "cell_type": "code",
   "execution_count": 30,
   "metadata": {},
   "outputs": [
    {
     "data": {
      "text/plain": [
       "(0.95, 1.0)"
      ]
     },
     "execution_count": 30,
     "metadata": {},
     "output_type": "execute_result"
    },
    {
     "data": {
      "image/png": "[encoded data removed]",
      "text/plain": [
       "<matplotlib.figure.Figure at 0x7f7ca966d4d0>"
      ]
     },
     "metadata": {},
     "output_type": "display_data"
    }
   ],
   "source": [
    "plt.plot(history.history['acc'])\n",
    "plt.plot(history.history['val_acc'])\n",
    "plt.ylim([0.95,1.0])"
   ]
  },
  {
   "cell_type": "markdown",
   "metadata": {},
   "source": [
    "That seems to have gotten even better, let's continue unfreezing layers. Notice that the training time per epoch is increasing, as we allow more layer weights to be adjustable and the model must learn more."
   ]
  },
  {
   "cell_type": "code",
   "execution_count": 32,
   "metadata": {},
   "outputs": [
    {
     "data": {
      "text/plain": [
       "[<keras.engine.topology.InputLayer at 0x7f7caac08c50>,\n",
       " <keras.layers.convolutional.Conv2D at 0x7f7caac08b90>,\n",
       " <keras.layers.convolutional.Conv2D at 0x7f7caac08250>,\n",
       " <keras.layers.pooling.MaxPooling2D at 0x7f7b4e06e710>,\n",
       " <keras.layers.convolutional.Conv2D at 0x7f7caab8b750>,\n",
       " <keras.layers.convolutional.Conv2D at 0x7f7caab8bc50>,\n",
       " <keras.layers.pooling.MaxPooling2D at 0x7f7caaba3ad0>]"
      ]
     },
     "execution_count": 32,
     "metadata": {},
     "output_type": "execute_result"
    }
   ],
   "source": [
    "base_model.layers[:7]"
   ]
  },
  {
   "cell_type": "code",
   "execution_count": 33,
   "metadata": {},
   "outputs": [],
   "source": [
    "#################################################################\n",
    "############## Transfer Model 4 #################################\n",
    "#################################################################\n",
    "\n",
    "# create the base pre-trained model\n",
    "# base_model = xception.Xception(weights='imagenet', include_top=False, input_shape=(75,75,3))\n",
    "base_model = vgg16.VGG16(weights='imagenet', include_top=False, input_shape=(56, 56, 3))\n",
    "x = base_model.output\n",
    "\n",
    "# x = BatchNormalization()(x)\n",
    "x = GlobalAveragePooling2D()(x)\n",
    "# x = GlobalMaxPooling2D()(x)\n",
    "\n",
    "# let's add a fully-connected layer\n",
    "x = Dense(1024, activation='relu')(x)\n",
    "x = Dropout(0.2)(x)\n",
    "x = Dense(512, activation='relu')(x)\n",
    "x = Dropout(0.2)(x)\n",
    "x = Dense(256, activation='relu')(x)\n",
    "x = Dropout(0.2)(x)\n",
    "# x = Dense(128, activation='relu')(x)\n",
    "# x = Dropout(0.5)(x)\n",
    "\n",
    "# And the final softmax layer\n",
    "predictions = Dense(10, activation='softmax')(x)\n",
    "\n",
    "# this is the model we will train\n",
    "model_transfer = Model(inputs=base_model.input, outputs=predictions)\n",
    "\n",
    "freeze_layer = 7\n",
    "\n",
    "### Freeze layers ###\n",
    "for layer in base_model.layers[:freeze_layer]:\n",
    "    layer.trainable = False\n",
    "\n",
    "### Trainable layers ###\n",
    "for layer in base_model.layers[freeze_layer:]:\n",
    "    layer.trainable = True\n",
    "\n",
    "model_transfer.compile(optimizer='adam', loss='categorical_crossentropy', metrics=[\"accuracy\"])\n",
    "# model.compile(optimizer='nadam', loss='categorical_crossentropy', metrics=[\"accuracy\"])\n",
    "# model.compile(optimizer = optimizers.SGD(lr=0.001, momentum=0.9, nesterov=True, decay=1e-6), \\\n",
    "#               loss='categorical_crossentropy', metrics=[\"accuracy\"])"
   ]
  },
  {
   "cell_type": "code",
   "execution_count": 34,
   "metadata": {
    "scrolled": true
   },
   "outputs": [
    {
     "name": "stdout",
     "output_type": "stream",
     "text": [
      "Epoch 1/20\n",
      "468/468 [==============================] - 56s 119ms/step - loss: 2.3027 - acc: 0.1113 - val_loss: 2.3016 - val_acc: 0.1135\n",
      "Epoch 2/20\n",
      "468/468 [==============================] - 55s 117ms/step - loss: 2.3014 - acc: 0.1121 - val_loss: 2.3014 - val_acc: 0.1135\n",
      "Epoch 3/20\n",
      "468/468 [==============================] - 55s 117ms/step - loss: 2.3014 - acc: 0.1123 - val_loss: 2.3013 - val_acc: 0.1135\n",
      "Epoch 4/20\n",
      "468/468 [==============================] - 55s 118ms/step - loss: 2.3013 - acc: 0.1125 - val_loss: 2.3010 - val_acc: 0.1135\n",
      "Epoch 5/20\n",
      "468/468 [==============================] - 55s 118ms/step - loss: 2.3014 - acc: 0.1125 - val_loss: 2.3011 - val_acc: 0.1135\n",
      "Epoch 6/20\n",
      "468/468 [==============================] - 55s 118ms/step - loss: 2.3014 - acc: 0.1122 - val_loss: 2.3011 - val_acc: 0.1135\n",
      "Epoch 7/20\n",
      "468/468 [==============================] - 55s 118ms/step - loss: 2.3013 - acc: 0.1125 - val_loss: 2.3011 - val_acc: 0.1135\n",
      "Epoch 8/20\n",
      "468/468 [==============================] - 55s 118ms/step - loss: 2.3013 - acc: 0.1125 - val_loss: 2.3011 - val_acc: 0.1135\n",
      "Epoch 9/20\n",
      "468/468 [==============================] - 55s 118ms/step - loss: 2.3013 - acc: 0.1121 - val_loss: 2.3011 - val_acc: 0.1135\n",
      "Epoch 10/20\n",
      "468/468 [==============================] - 55s 118ms/step - loss: 2.3013 - acc: 0.1124 - val_loss: 2.3010 - val_acc: 0.1135\n",
      "Epoch 11/20\n",
      "468/468 [==============================] - 55s 118ms/step - loss: 2.3012 - acc: 0.1125 - val_loss: 2.3010 - val_acc: 0.1135\n",
      "Epoch 12/20\n",
      "468/468 [==============================] - 55s 118ms/step - loss: 2.3013 - acc: 0.1125 - val_loss: 2.3011 - val_acc: 0.1135\n",
      "Epoch 13/20\n",
      "468/468 [==============================] - 55s 118ms/step - loss: 2.3012 - acc: 0.1123 - val_loss: 2.3010 - val_acc: 0.1135\n",
      "Epoch 14/20\n",
      "468/468 [==============================] - 55s 118ms/step - loss: 2.3013 - acc: 0.1123 - val_loss: 2.3011 - val_acc: 0.1135\n",
      "Epoch 15/20\n",
      "468/468 [==============================] - 55s 118ms/step - loss: 2.3012 - acc: 0.1124 - val_loss: 2.3010 - val_acc: 0.1135\n",
      "Epoch 16/20\n",
      "468/468 [==============================] - 55s 118ms/step - loss: 2.3013 - acc: 0.1121 - val_loss: 2.3010 - val_acc: 0.1135\n",
      "Epoch 17/20\n",
      "468/468 [==============================] - 55s 118ms/step - loss: 2.3012 - acc: 0.1129 - val_loss: 2.3010 - val_acc: 0.1135\n",
      "Epoch 18/20\n",
      "468/468 [==============================] - 55s 118ms/step - loss: 2.3013 - acc: 0.1118 - val_loss: 2.3011 - val_acc: 0.1135\n",
      "Epoch 19/20\n",
      "468/468 [==============================] - 55s 118ms/step - loss: 2.3013 - acc: 0.1124 - val_loss: 2.3010 - val_acc: 0.1135\n",
      "Epoch 20/20\n",
      "468/468 [==============================] - 55s 117ms/step - loss: 2.3013 - acc: 0.1124 - val_loss: 2.3011 - val_acc: 0.1135\n"
     ]
    }
   ],
   "source": [
    "history = model_transfer.fit_generator(train_generator, x_train_3c_exp.shape[0] // batch_size, \\\n",
    "                                    epochs=20, verbose=1, validation_data=(x_test_3c_exp, y_test_enc))\n",
    "model_transfer.save_weights('./models/transfer_architecture_4.h5')\n",
    "pd.DataFrame(history.history).to_csv('./models/transfer_architecture_4.csv', index=True)"
   ]
  },
  {
   "cell_type": "markdown",
   "metadata": {},
   "source": [
    "Suddenly, the model isn't able to learn at all! Training neural networks that are very deep, where all layers are trainable, it can sometimes be difficult to get the system to converge to a useful solution. We should probably go with our previous solution, or else use our small from-scratch network for this MNIST dataset. For a more complicated dataset, especially as we start to get more complex images and more classes, the transfer learning approach will really start to outdo the small from-stratch approach."
   ]
  },
  {
   "cell_type": "markdown",
   "metadata": {},
   "source": [
    "### Exercise for the reader"
   ]
  },
  {
   "cell_type": "markdown",
   "metadata": {},
   "source": [
    "Download the Kaggle data for the cats and dogs dataset using their API: https://github.com/Kaggle/kaggle-api\n",
    "\n",
    "Competition information for cats vs dogs here: https://www.kaggle.com/c/dogs-vs-cats/rules\n",
    "\n",
    "Challenge: create a transfer learning model that can distinguish cats vs. dogs using vgg-16 or another pre-trained model of your choice from the Keras library."
   ]
  },
  {
   "cell_type": "code",
   "execution_count": null,
   "metadata": {},
   "outputs": [],
   "source": []
  }
 ],
 "metadata": {
  "kernelspec": {
   "display_name": "Python 3",
   "language": "python",
   "name": "python3"
  },
  "language_info": {
   "codemirror_mode": {
    "name": "ipython",
    "version": 3
   },
   "file_extension": ".py",
   "mimetype": "text/x-python",
   "name": "python",
   "nbconvert_exporter": "python",
   "pygments_lexer": "ipython3",
   "version": "3.6.5"
  }
 },
 "nbformat": 4,
 "nbformat_minor": 2
}
